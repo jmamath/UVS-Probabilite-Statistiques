{
  "nbformat": 4,
  "nbformat_minor": 0,
  "metadata": {
    "colab": {
      "name": "Introduction_Numpy.ipynb",
      "provenance": [],
      "collapsed_sections": [
        "zX9t1udC3Ndl",
        "AUy1-e874rry",
        "9y33yzmk51LF",
        "csLSwU9Y6G9C",
        "daBFsDUZ-r-S",
        "cYZcZgL_ALNN",
        "nWCTyGPXOXo6",
        "ScsmgsofPp_q",
        "jM69clcMQXVh"
      ],
      "include_colab_link": true
    },
    "kernelspec": {
      "name": "python3",
      "display_name": "Python 3"
    }
  },
  "cells": [
    {
      "cell_type": "markdown",
      "metadata": {
        "id": "view-in-github",
        "colab_type": "text"
      },
      "source": [
        "<a href=\"https://colab.research.google.com/github/jmamath/UVS-Probabilite-Statistiques/blob/master/Introduction_Numpy.ipynb\" target=\"_parent\"><img src=\"https://colab.research.google.com/assets/colab-badge.svg\" alt=\"Open In Colab\"/></a>"
      ]
    },
    {
      "cell_type": "markdown",
      "metadata": {
        "id": "8H_RPugm06_Z",
        "colab_type": "text"
      },
      "source": [
        "\n",
        "\n",
        "# Tutoriel 1. Python et Numpy"
      ]
    },
    {
      "cell_type": "markdown",
      "metadata": {
        "id": "yAxYV0iB1Pcq",
        "colab_type": "text"
      },
      "source": [
        "### Introduction\n",
        "\n",
        "Ce didacticiel fournit une introduction pratique au langage de programmation Python et à la bibliothèque Numpy pour le calcul scientifique.\n",
        "\n",
        "### Qu'attend-on de vous:\n",
        "Ce tutoriel n'est pas à faire en une fois, mais plutôt fournit des notions clé en main pour manipuler des données avec Numpy et Python.\n",
        "Utilisez-le à votre guise pour perfectionner votre Python, ou pour répondre à un problème spécifique.\n"
      ]
    },
    {
      "cell_type": "markdown",
      "metadata": {
        "id": "4GF0TnA_1gSj",
        "colab_type": "text"
      },
      "source": [
        "## Introduction\n",
        "Python est un excellent langage de programmation polyvalent, mais avec l'aide de quelques bibliothèques populaires (numpy, scipy, matplotlib), il devient un environnement puissant pour l'informatique scientifique.\n",
        "\n",
        "Nous nous attendons à ce que beaucoup d’entre vous connaissent déjà Python et Numpy; pour le reste d'entre vous, cette section servira de cours accéléré à la fois sur le langage de programmation Python et sur l'utilisation de Python pour l'informatique scientifique."
      ]
    },
    {
      "cell_type": "markdown",
      "metadata": {
        "id": "6GDj7Jqo1poL",
        "colab_type": "text"
      },
      "source": [
        "Dans ce tutoriel, nous couvrirons:\n",
        "\n",
        "* Basic Python: Types de données de base (Conteneurs, Listes, Dictionnaires, Ensembles, Tuples), Fonctions, Classes\n",
        "* Numpy: Tableaux, Indexation de tableaux, Types de données, Calculs de tableaux, Radiodiffusion\n",
        "* Matplotlib: Traçage, sous-parcelles, Images\n",
        "* IPython: Création de cahiers, workflows typiques"
      ]
    },
    {
      "cell_type": "markdown",
      "metadata": {
        "id": "UWpp-KyH13OH",
        "colab_type": "text"
      },
      "source": [
        "## Notions de base de Python\n",
        "Python est un langage de programmation multiparadigme de haut niveau à typage dynamique. On dit souvent que le code Python ressemble presque au pseudocode, car il vous permet d’exprimer des idées très puissantes avec très peu de lignes de code tout en étant très lisible. A titre d'exemple, voici une implémentation de l'algorithme classique quicksort en Python:\n",
        "\n",
        "REMARQUE: dans Colab, vous pouvez exécuter le code dans une cellule en cliquant à l'intérieur de celle-ci et en appuyant simultanément sur les touches Maj + Entrée."
      ]
    },
    {
      "cell_type": "markdown",
      "metadata": {
        "id": "3WYhXAHZ2y6_",
        "colab_type": "text"
      },
      "source": [
        "## Versions de python\n",
        "Il existe actuellement deux versions différentes de Python, 2.7 et 3.4. De manière quelque peu déroutante, Python 3.0 a introduit de nombreuses modifications du langage incompatibles avec les versions antérieures, de sorte que le code écrit pour 2.7 peut ne pas fonctionner sous 3.4 et inversement. Pour cette classe, tout le code utilisera Python 2.7.\n",
        "\n",
        "Vous pouvez vérifier votre version de Python sur la ligne de commande en exécutant python --version."
      ]
    },
    {
      "cell_type": "markdown",
      "metadata": {
        "id": "X2yirw_X28gx",
        "colab_type": "text"
      },
      "source": [
        "## Types de données de base\n",
        "### Nombres\n",
        "Les entiers et les flottants fonctionnent comme vous le voudriez des autres langues:"
      ]
    },
    {
      "cell_type": "code",
      "metadata": {
        "id": "MeP6AL9C3Cdv",
        "colab_type": "code",
        "outputId": "1d4f56af-cabb-4025-ed35-e588c98c8cca",
        "colab": {
          "base_uri": "https://localhost:8080/",
          "height": 34
        }
      },
      "source": [
        "x = 3\n",
        "print(x, type(x))"
      ],
      "execution_count": 0,
      "outputs": [
        {
          "output_type": "stream",
          "text": [
            "3 <class 'int'>\n"
          ],
          "name": "stdout"
        }
      ]
    },
    {
      "cell_type": "code",
      "metadata": {
        "id": "Ir5qqznD2CTS",
        "colab_type": "code",
        "outputId": "bffa0dd4-8d8d-4450-eb24-7e9aa8b22e03",
        "colab": {
          "base_uri": "https://localhost:8080/",
          "height": 85
        }
      },
      "source": [
        "print(x + 1)   # Addition;\n",
        "print(x - 1)   # Subtraction;\n",
        "print(x * 2)   # Multiplication;\n",
        "print(x ** 2)  # Exponentiation;"
      ],
      "execution_count": 0,
      "outputs": [
        {
          "output_type": "stream",
          "text": [
            "4\n",
            "2\n",
            "6\n",
            "9\n"
          ],
          "name": "stdout"
        }
      ]
    },
    {
      "cell_type": "code",
      "metadata": {
        "id": "AFSdzqTU2UN6",
        "colab_type": "code",
        "outputId": "c2eff170-c828-4936-a927-7db1d5dee51d",
        "colab": {
          "base_uri": "https://localhost:8080/",
          "height": 51
        }
      },
      "source": [
        "x += 1\n",
        "print(x)  # Prints \"4\"\n",
        "x *= 2\n",
        "print(x)  # Prints \"8\""
      ],
      "execution_count": 0,
      "outputs": [
        {
          "output_type": "stream",
          "text": [
            "4\n",
            "8\n"
          ],
          "name": "stdout"
        }
      ]
    },
    {
      "cell_type": "code",
      "metadata": {
        "id": "DS_8foUv2aFz",
        "colab_type": "code",
        "outputId": "ff80b568-4251-4d65-e59c-9039a8c30e10",
        "colab": {
          "base_uri": "https://localhost:8080/",
          "height": 51
        }
      },
      "source": [
        "y = 2.5\n",
        "print(type(y)) # Prints \"<type 'float'>\"\n",
        "print(y, y + 1, y * 2, y ** 2) # Prints \"2.5 3.5 5.0 6.25\""
      ],
      "execution_count": 0,
      "outputs": [
        {
          "output_type": "stream",
          "text": [
            "<class 'float'>\n",
            "2.5 3.5 5.0 6.25\n"
          ],
          "name": "stdout"
        }
      ]
    },
    {
      "cell_type": "markdown",
      "metadata": {
        "id": "8kXnzFNk2ZId",
        "colab_type": "text"
      },
      "source": [
        "Notez que contrairement à de nombreux langages, Python ne possède pas d'opérateurs unaires d'incrémentation (x ++) ou de décrémentation (x--).\n",
        "\n",
        "Python a également des types intégrés pour les entiers longs et les nombres complexes; vous pouvez trouver tous les détails dans la documentation."
      ]
    },
    {
      "cell_type": "markdown",
      "metadata": {
        "id": "YYVuaAOA2kU-",
        "colab_type": "text"
      },
      "source": [
        "###Booléens\n",
        "Python implements all of the usual operators for Boolean logic, but uses English words rather than symbols (&&, ||, etc.):"
      ]
    },
    {
      "cell_type": "code",
      "metadata": {
        "id": "I9ohUqo-2qrs",
        "colab_type": "code",
        "outputId": "e69cf1ff-a731-48fd-dd93-0adf87b75d7a",
        "colab": {
          "base_uri": "https://localhost:8080/",
          "height": 34
        }
      },
      "source": [
        "t, f = True, False\n",
        "print(type(t)) # Prints \"<type 'bool'>\""
      ],
      "execution_count": 0,
      "outputs": [
        {
          "output_type": "stream",
          "text": [
            "<class 'bool'>\n"
          ],
          "name": "stdout"
        }
      ]
    },
    {
      "cell_type": "markdown",
      "metadata": {
        "id": "aJRmm4bQ3ABX",
        "colab_type": "text"
      },
      "source": [
        "Regardons maintenant les opérations:"
      ]
    },
    {
      "cell_type": "code",
      "metadata": {
        "id": "whI65d0P2gdi",
        "colab_type": "code",
        "outputId": "1522eb9e-179f-4346-ed3f-978b28b8076c",
        "colab": {
          "base_uri": "https://localhost:8080/",
          "height": 85
        }
      },
      "source": [
        "print(t and f) # Logical AND;\n",
        "print(t or f)  # Logical OR;\n",
        "print(not t)   # Logical NOT;\n",
        "print(t != f)  # Logical XOR;"
      ],
      "execution_count": 0,
      "outputs": [
        {
          "output_type": "stream",
          "text": [
            "False\n",
            "True\n",
            "False\n",
            "True\n"
          ],
          "name": "stdout"
        }
      ]
    },
    {
      "cell_type": "markdown",
      "metadata": {
        "id": "zX9t1udC3Ndl",
        "colab_type": "text"
      },
      "source": [
        "### Strings"
      ]
    },
    {
      "cell_type": "code",
      "metadata": {
        "id": "N5FZFKHD3GBk",
        "colab_type": "code",
        "outputId": "6e01e8d4-b4c0-4071-9760-ec569136a4e0",
        "colab": {
          "base_uri": "https://localhost:8080/",
          "height": 34
        }
      },
      "source": [
        "hello = 'hello'   # apostrophe\n",
        "world = \"world\"   # guillements\n",
        "print(hello, len(hello))"
      ],
      "execution_count": 0,
      "outputs": [
        {
          "output_type": "stream",
          "text": [
            "hello 5\n"
          ],
          "name": "stdout"
        }
      ]
    },
    {
      "cell_type": "code",
      "metadata": {
        "id": "k6_9tbSS3TUa",
        "colab_type": "code",
        "outputId": "2f6d9429-57c1-482d-97ef-e1fd82c531dd",
        "colab": {
          "base_uri": "https://localhost:8080/",
          "height": 34
        }
      },
      "source": [
        "hw = hello + ' ' + world  # String concatenation\n",
        "print(hw)  # prints \"hello world\""
      ],
      "execution_count": 0,
      "outputs": [
        {
          "output_type": "stream",
          "text": [
            "hello world\n"
          ],
          "name": "stdout"
        }
      ]
    },
    {
      "cell_type": "markdown",
      "metadata": {
        "id": "lsJtAgGb4LJE",
        "colab_type": "text"
      },
      "source": [
        "Les chaînes de charactères ont un tas de méthodes utiles; par exemple:"
      ]
    },
    {
      "cell_type": "code",
      "metadata": {
        "id": "tB_T2gST3oe0",
        "colab_type": "code",
        "outputId": "ac432a59-17fa-434d-f2df-43852f74f20f",
        "colab": {
          "base_uri": "https://localhost:8080/",
          "height": 119
        }
      },
      "source": [
        "s = \"hello\"\n",
        "print(s.capitalize())  # Capitalize a string; prints \"Hello\"\n",
        "print(s.upper())       # Convert a string to uppercase; prints \"HELLO\"\n",
        "print(s.rjust(7))      # Right-justify a string, padding with spaces; prints \"  hello\"\n",
        "print(s.center(7))     # Center a string, padding with spaces; prints \" hello \"\n",
        "print(s.replace('l', '(ell)'))  # Replace all instances of one substring with another;\n",
        "                               # prints \"he(ell)(ell)o\"\n",
        "print('  world '.strip())  # Strip leading and trailing whitespace; prints \"world\""
      ],
      "execution_count": 0,
      "outputs": [
        {
          "output_type": "stream",
          "text": [
            "Hello\n",
            "HELLO\n",
            "  hello\n",
            " hello \n",
            "he(ell)(ell)o\n",
            "world\n"
          ],
          "name": "stdout"
        }
      ]
    },
    {
      "cell_type": "markdown",
      "metadata": {
        "id": "EVuDksNj4mBr",
        "colab_type": "text"
      },
      "source": [
        "Vous pouvez trouver une liste de toutes les méthodes de chaîne dans la documentation."
      ]
    },
    {
      "cell_type": "markdown",
      "metadata": {
        "id": "AUy1-e874rry",
        "colab_type": "text"
      },
      "source": [
        "\n",
        "### Les conteneurs\n",
        "Python includes several built-in container types: lists, dictionaries, sets, and tuples."
      ]
    },
    {
      "cell_type": "code",
      "metadata": {
        "id": "FwwRWkQr4bSp",
        "colab_type": "code",
        "outputId": "be6cd544-83bd-49ce-e068-1aea56cb342d",
        "colab": {
          "base_uri": "https://localhost:8080/",
          "height": 51
        }
      },
      "source": [
        "xs = [3, 1, 2]   # Create a list\n",
        "print(xs, xs[2])\n",
        "print(xs[-1]) "
      ],
      "execution_count": 0,
      "outputs": [
        {
          "output_type": "stream",
          "text": [
            "[3, 1, 2] 2\n",
            "2\n"
          ],
          "name": "stdout"
        }
      ]
    },
    {
      "cell_type": "code",
      "metadata": {
        "id": "RwUJl_pJUDp-",
        "colab_type": "code",
        "colab": {}
      },
      "source": [
        ""
      ],
      "execution_count": 0,
      "outputs": []
    },
    {
      "cell_type": "code",
      "metadata": {
        "id": "_NffW5xd41gE",
        "colab_type": "code",
        "outputId": "88052025-d385-4844-b386-9e1b73364c99",
        "colab": {
          "base_uri": "https://localhost:8080/",
          "height": 34
        }
      },
      "source": [
        "xs[2] = 'foo'    # Lists can contain elements of different types\n",
        "print(xs)"
      ],
      "execution_count": 0,
      "outputs": [
        {
          "output_type": "stream",
          "text": [
            "[3, 1, 'foo']\n"
          ],
          "name": "stdout"
        }
      ]
    },
    {
      "cell_type": "code",
      "metadata": {
        "id": "B722aQU54_tO",
        "colab_type": "code",
        "outputId": "a1c1dae6-3df7-401e-c8a9-d593bc5979c3",
        "colab": {
          "base_uri": "https://localhost:8080/",
          "height": 34
        }
      },
      "source": [
        "xs.append('bar') # Add a new element to the end of the list\n",
        "print(xs)  "
      ],
      "execution_count": 0,
      "outputs": [
        {
          "output_type": "stream",
          "text": [
            "[3, 1, 'foo', 'bar']\n"
          ],
          "name": "stdout"
        }
      ]
    },
    {
      "cell_type": "code",
      "metadata": {
        "id": "CU5oLHGM5CEn",
        "colab_type": "code",
        "outputId": "e9b002ed-a4cf-4f61-9939-a17093a3cdb4",
        "colab": {
          "base_uri": "https://localhost:8080/",
          "height": 34
        }
      },
      "source": [
        "x = xs.pop()     # Remove and return the last element of the list\n",
        "print(x, xs) "
      ],
      "execution_count": 0,
      "outputs": [
        {
          "output_type": "stream",
          "text": [
            "bar [3, 1, 'foo']\n"
          ],
          "name": "stdout"
        }
      ]
    },
    {
      "cell_type": "markdown",
      "metadata": {
        "id": "OwpeWa2I5NW_",
        "colab_type": "text"
      },
      "source": [
        "Comme d'habitude, vous trouverez tous les détails sanglants sur les listes dans la documentation."
      ]
    },
    {
      "cell_type": "markdown",
      "metadata": {
        "id": "9y33yzmk51LF",
        "colab_type": "text"
      },
      "source": [
        "### Slicing\n",
        "En plus d'accéder aux éléments de liste un à la fois, Python fournit une syntaxe concise pour accéder aux sous-listes. c'est ce qu'on appelle le découpage en tranches:"
      ]
    },
    {
      "cell_type": "code",
      "metadata": {
        "id": "jQ4Nwazk5XZ3",
        "colab_type": "code",
        "outputId": "6c6595e0-abea-4500-bf6c-50f1c7ccee87",
        "colab": {
          "base_uri": "https://localhost:8080/",
          "height": 136
        }
      },
      "source": [
        "nums = [1,2,3,4,5]    # range is a built-in function that creates a list of integers\n",
        "print(nums)         # Prints \"[0, 1, 2, 3, 4]\"\n",
        "print(nums[2:4])    # Get a slice from index 2 to 4 (exclusive); prints \"[2, 3]\"\n",
        "print(nums[2:])     # Get a slice from index 2 to the end; prints \"[2, 3, 4]\"\n",
        "print(nums[:2])     # Get a slice from the start to index 2 (exclusive); prints \"[0, 1]\"\n",
        "print(nums[:])      # Get a slice of the whole list; prints \"[0, 1, 2, 3, 4]\"\n",
        "print(nums[:-1])    # Slice indices can be negative; prints \"[0, 1, 2, 3]\"\n",
        "nums[2:4] = [8, 9] # Assign a new sublist to a slice\n",
        "print(nums)         # Prints \"[0, 1, 8, 8, 4]\""
      ],
      "execution_count": 0,
      "outputs": [
        {
          "output_type": "stream",
          "text": [
            "[1, 2, 3, 4, 5]\n",
            "[3, 4]\n",
            "[3, 4, 5]\n",
            "[1, 2]\n",
            "[1, 2, 3, 4, 5]\n",
            "[1, 2, 3, 4]\n",
            "[1, 2, 8, 9, 5]\n"
          ],
          "name": "stdout"
        }
      ]
    },
    {
      "cell_type": "markdown",
      "metadata": {
        "id": "csLSwU9Y6G9C",
        "colab_type": "text"
      },
      "source": [
        "### Les boucles\n",
        "Vous pouvez parcourir les éléments d'une liste comme ceci:"
      ]
    },
    {
      "cell_type": "code",
      "metadata": {
        "id": "s0QP_GIf5ML0",
        "colab_type": "code",
        "outputId": "53fc4fdc-32bf-4481-c3ee-7b024541b071",
        "colab": {
          "base_uri": "https://localhost:8080/",
          "height": 68
        }
      },
      "source": [
        "animals = ['cat', 'dog', 'monkey']\n",
        "for animal in animals:\n",
        "    print(animal)"
      ],
      "execution_count": 0,
      "outputs": [
        {
          "output_type": "stream",
          "text": [
            "cat\n",
            "dog\n",
            "monkey\n"
          ],
          "name": "stdout"
        }
      ]
    },
    {
      "cell_type": "markdown",
      "metadata": {
        "id": "-is8LMa66UAA",
        "colab_type": "text"
      },
      "source": [
        "Si vous souhaitez accéder à l'index de chaque élément dans le corps d'une boucle, utilisez la fonction énumérée intégrée:"
      ]
    },
    {
      "cell_type": "code",
      "metadata": {
        "id": "ZKJ2tNxy5HJL",
        "colab_type": "code",
        "outputId": "9446305c-1642-498e-9ceb-3867f104b5f8",
        "colab": {
          "base_uri": "https://localhost:8080/",
          "height": 68
        }
      },
      "source": [
        "animals = ['cat', 'dog', 'monkey']\n",
        "for idx, animal in enumerate(animals):\n",
        "    print('#%d: %s' % (idx + 1, animal))"
      ],
      "execution_count": 0,
      "outputs": [
        {
          "output_type": "stream",
          "text": [
            "#1: cat\n",
            "#2: dog\n",
            "#3: monkey\n"
          ],
          "name": "stdout"
        }
      ]
    },
    {
      "cell_type": "markdown",
      "metadata": {
        "id": "fzRg4LJf7GxI",
        "colab_type": "text"
      },
      "source": [
        "Lors de la programmation, nous souhaitons fréquemment transformer un type de données en un autre. Comme exemple simple, considérons le code suivant qui calcule les nombres carrés:"
      ]
    },
    {
      "cell_type": "code",
      "metadata": {
        "id": "h2AtjJ-X7F3Z",
        "colab_type": "code",
        "outputId": "b8842741-0dba-4ae8-a105-c603c00e6ce0",
        "colab": {
          "base_uri": "https://localhost:8080/",
          "height": 34
        }
      },
      "source": [
        "nums = [0, 1, 2, 3, 4]\n",
        "squares = []\n",
        "for x in nums:\n",
        "    squares.append(x ** 2)\n",
        "print(squares)"
      ],
      "execution_count": 0,
      "outputs": [
        {
          "output_type": "stream",
          "text": [
            "[0, 1, 4, 9, 16]\n"
          ],
          "name": "stdout"
        }
      ]
    },
    {
      "cell_type": "markdown",
      "metadata": {
        "id": "9kVnazFn7ZOW",
        "colab_type": "text"
      },
      "source": [
        "Vous pouvez simplifier ce code en utilisant une liste de compréhension:"
      ]
    },
    {
      "cell_type": "code",
      "metadata": {
        "id": "e-xJ3qn76dLT",
        "colab_type": "code",
        "outputId": "f9abb85b-9a27-4a98-8be8-99aacc746509",
        "colab": {
          "base_uri": "https://localhost:8080/",
          "height": 34
        }
      },
      "source": [
        "nums = [0, 1, 2, 3, 4]\n",
        "squares = [x ** 2 for x in nums]\n",
        "print(squares)"
      ],
      "execution_count": 0,
      "outputs": [
        {
          "output_type": "stream",
          "text": [
            "[0, 1, 4, 9, 16]\n"
          ],
          "name": "stdout"
        }
      ]
    },
    {
      "cell_type": "markdown",
      "metadata": {
        "id": "2EZDVhK9-j9K",
        "colab_type": "text"
      },
      "source": [
        "On peut aussi introduire des conditions"
      ]
    },
    {
      "cell_type": "code",
      "metadata": {
        "id": "LzFgJOOI7c_D",
        "colab_type": "code",
        "outputId": "1ab3be64-e1d7-422e-9fc7-4f094b782c8f",
        "colab": {
          "base_uri": "https://localhost:8080/",
          "height": 34
        }
      },
      "source": [
        "nums = [0, 1, 2, 3, 4]\n",
        "even_squares = [x ** 2 for x in nums if x % 2 == 0]\n",
        "print(even_squares)"
      ],
      "execution_count": 0,
      "outputs": [
        {
          "output_type": "stream",
          "text": [
            "[0, 4, 16]\n"
          ],
          "name": "stdout"
        }
      ]
    },
    {
      "cell_type": "markdown",
      "metadata": {
        "id": "daBFsDUZ-r-S",
        "colab_type": "text"
      },
      "source": [
        "### Dictionaires\n",
        "Un dictionnaire stocke des paires (clé, valeur), similaires à une carte en Java ou à un objet en Javascript. Vous pouvez l'utiliser comme ceci:"
      ]
    },
    {
      "cell_type": "code",
      "metadata": {
        "id": "GuPOgTBB-iw_",
        "colab_type": "code",
        "outputId": "9c7b5d29-b0ab-4c2d-98ef-8e76b18c2bff",
        "colab": {
          "base_uri": "https://localhost:8080/",
          "height": 51
        }
      },
      "source": [
        "d = {'cat': 'cute', 'dog': 'furry'}  # Create a new dictionary with some data\n",
        "print(d['cat'])       # Get an entry from a dictionary; prints \"cute\"\n",
        "print('cat' in d)     # Check if a dictionary has a given key; prints \"True\""
      ],
      "execution_count": 0,
      "outputs": [
        {
          "output_type": "stream",
          "text": [
            "cute\n",
            "True\n"
          ],
          "name": "stdout"
        }
      ]
    },
    {
      "cell_type": "code",
      "metadata": {
        "id": "BnTYBGrg-5eY",
        "colab_type": "code",
        "outputId": "7363ec68-1c69-4269-b062-beea99f59ff2",
        "colab": {
          "base_uri": "https://localhost:8080/",
          "height": 34
        }
      },
      "source": [
        "d['fish'] = 'wet'    # Set an entry in a dictionary\n",
        "print(d['fish']) "
      ],
      "execution_count": 0,
      "outputs": [
        {
          "output_type": "stream",
          "text": [
            "wet\n"
          ],
          "name": "stdout"
        }
      ]
    },
    {
      "cell_type": "code",
      "metadata": {
        "id": "9MjwUP41_BFh",
        "colab_type": "code",
        "outputId": "b7a52295-3d3e-48c5-ed92-34d6a9375a94",
        "colab": {
          "base_uri": "https://localhost:8080/",
          "height": 164
        }
      },
      "source": [
        "print(d['monkey'])  # Exemple d'erreur KeyError: 'monkey' not a key of d"
      ],
      "execution_count": 0,
      "outputs": [
        {
          "output_type": "error",
          "ename": "KeyError",
          "evalue": "ignored",
          "traceback": [
            "\u001b[0;31m---------------------------------------------------------------------------\u001b[0m",
            "\u001b[0;31mKeyError\u001b[0m                                  Traceback (most recent call last)",
            "\u001b[0;32m<ipython-input-36-78fc9745d9cf>\u001b[0m in \u001b[0;36m<module>\u001b[0;34m()\u001b[0m\n\u001b[0;32m----> 1\u001b[0;31m \u001b[0mprint\u001b[0m\u001b[0;34m(\u001b[0m\u001b[0md\u001b[0m\u001b[0;34m[\u001b[0m\u001b[0;34m'monkey'\u001b[0m\u001b[0;34m]\u001b[0m\u001b[0;34m)\u001b[0m  \u001b[0;31m# KeyError: 'monkey' not a key of d\u001b[0m\u001b[0;34m\u001b[0m\u001b[0;34m\u001b[0m\u001b[0m\n\u001b[0m",
            "\u001b[0;31mKeyError\u001b[0m: 'monkey'"
          ]
        }
      ]
    },
    {
      "cell_type": "code",
      "metadata": {
        "id": "Lho4xQEM_Esx",
        "colab_type": "code",
        "outputId": "6e63ff31-4c32-4491-9e27-2b15ef6dfcf5",
        "colab": {
          "base_uri": "https://localhost:8080/",
          "height": 51
        }
      },
      "source": [
        "print(d.get('monkey', 'N/A'))  # Get an element with a default; prints \"N/A\"\n",
        "print(d.get('fish', 'N/A'))    # Get an element with a default; prints \"wet\""
      ],
      "execution_count": 0,
      "outputs": [
        {
          "output_type": "stream",
          "text": [
            "N/A\n",
            "wet\n"
          ],
          "name": "stdout"
        }
      ]
    },
    {
      "cell_type": "code",
      "metadata": {
        "id": "KqYqZ8Yt_Ts7",
        "colab_type": "code",
        "outputId": "2615c5f1-60b5-49e6-ee35-4c3e0a680ec8",
        "colab": {
          "base_uri": "https://localhost:8080/",
          "height": 34
        }
      },
      "source": [
        "del d['fish']        # Remove an element from a dictionary\n",
        "print(d.get('fish', 'N/A')) # \"fish\" is no longer a key; prints \"N/A\""
      ],
      "execution_count": 0,
      "outputs": [
        {
          "output_type": "stream",
          "text": [
            "N/A\n"
          ],
          "name": "stdout"
        }
      ]
    },
    {
      "cell_type": "markdown",
      "metadata": {
        "id": "mpPxNq-k_dD5",
        "colab_type": "text"
      },
      "source": [
        "Vous pouvez trouver tout ce que vous devez savoir sur les dictionnaires dans la documentation.\n",
        "\n",
        "Il est facile de parcourir les clés d'un dictionnaire:"
      ]
    },
    {
      "cell_type": "code",
      "metadata": {
        "id": "6XyVlGRK_XtU",
        "colab_type": "code",
        "outputId": "6b3ce3c9-e07b-43ee-f75d-f819b230c3a6",
        "colab": {
          "base_uri": "https://localhost:8080/",
          "height": 68
        }
      },
      "source": [
        "d = {'person': 2, 'cat': 4, 'spider': 8}\n",
        "for animal in d:\n",
        "    legs = d[animal]\n",
        "    print('A %s has %d legs' % (animal, legs))"
      ],
      "execution_count": 0,
      "outputs": [
        {
          "output_type": "stream",
          "text": [
            "A person has 2 legs\n",
            "A cat has 4 legs\n",
            "A spider has 8 legs\n"
          ],
          "name": "stdout"
        }
      ]
    },
    {
      "cell_type": "markdown",
      "metadata": {
        "id": "7tl8lrg7_7Fs",
        "colab_type": "text"
      },
      "source": [
        "Compréhensions de dictionnaire: elles ressemblent aux compréhensions de liste, mais vous permettent de construire facilement des dictionnaires. Par exemple:"
      ]
    },
    {
      "cell_type": "code",
      "metadata": {
        "id": "9ciNG4FC_wd_",
        "colab_type": "code",
        "outputId": "97baf434-d2e3-4a13-bd84-5ef3905f82c3",
        "colab": {
          "base_uri": "https://localhost:8080/",
          "height": 34
        }
      },
      "source": [
        "nums = [0, 1, 2, 3, 4]\n",
        "even_num_to_square = {x: x ** 2 for x in nums if x % 2 == 0}\n",
        "print(even_num_to_square)"
      ],
      "execution_count": 0,
      "outputs": [
        {
          "output_type": "stream",
          "text": [
            "{0: 0, 2: 4, 4: 16}\n"
          ],
          "name": "stdout"
        }
      ]
    },
    {
      "cell_type": "markdown",
      "metadata": {
        "id": "cYZcZgL_ALNN",
        "colab_type": "text"
      },
      "source": [
        "### Ensembles\n",
        "Un ensemble est une collection non ordonnée d'éléments distincts. Comme exemple simple, considérons ce qui suit:"
      ]
    },
    {
      "cell_type": "code",
      "metadata": {
        "id": "HaMP0aGVABwz",
        "colab_type": "code",
        "outputId": "b7ef1f0b-f405-4475-b75c-bb4639f63852",
        "colab": {
          "base_uri": "https://localhost:8080/",
          "height": 51
        }
      },
      "source": [
        "animals = {'cat', 'dog'}\n",
        "print('cat' in animals)   # Check if an element is in a set; prints \"True\"\n",
        "print('fish' in animals)  # prints \"False\""
      ],
      "execution_count": 0,
      "outputs": [
        {
          "output_type": "stream",
          "text": [
            "True\n",
            "False\n"
          ],
          "name": "stdout"
        }
      ]
    },
    {
      "cell_type": "code",
      "metadata": {
        "id": "wVkYba6OA78E",
        "colab_type": "code",
        "outputId": "ff5d1b94-02e0-4664-a0cb-24711d99a70f",
        "colab": {
          "base_uri": "https://localhost:8080/",
          "height": 51
        }
      },
      "source": [
        "animals.add('fish')      # Add an element to a set\n",
        "print('fish' in animals)\n",
        "print(len(animals))       # "
      ],
      "execution_count": 0,
      "outputs": [
        {
          "output_type": "stream",
          "text": [
            "True\n",
            "3\n"
          ],
          "name": "stdout"
        }
      ]
    },
    {
      "cell_type": "code",
      "metadata": {
        "id": "m-CPc7gZBEWt",
        "colab_type": "code",
        "outputId": "8965ecd7-c914-4aae-da56-590211c2c462",
        "colab": {
          "base_uri": "https://localhost:8080/",
          "height": 51
        }
      },
      "source": [
        "animals.add('cat')       # Adding an element that is already in the set does nothing\n",
        "print(len(animals))       \n",
        "animals.remove('cat')    # Remove an element from a set\n",
        "print(len(animals))  "
      ],
      "execution_count": 0,
      "outputs": [
        {
          "output_type": "stream",
          "text": [
            "3\n",
            "2\n"
          ],
          "name": "stdout"
        }
      ]
    },
    {
      "cell_type": "markdown",
      "metadata": {
        "id": "nWCTyGPXOXo6",
        "colab_type": "text"
      },
      "source": [
        "### Couples\n",
        "Un couple est une liste de valeurs ordonnée (immuable) ils sont  à bien des égards similaire à une liste; L'une des différences les plus importantes est que les couples peuvent être utilisés comme clés dans les dictionnaires et comme éléments d'ensembles, alors que les listes ne le peuvent pas. Voici un exemple trivial:"
      ]
    },
    {
      "cell_type": "code",
      "metadata": {
        "id": "T6le15utBIKj",
        "colab_type": "code",
        "outputId": "ed96c3e1-ee42-48d5-a0cc-bd17b6aa1957",
        "colab": {
          "base_uri": "https://localhost:8080/",
          "height": 69
        }
      },
      "source": [
        "d = {(x, x + 1): x for x in range(10)}  # Créer un dictionaire avec des couples en entrée\n",
        "t = (5, 6)       # Crée un couple\n",
        "print(type(t))\n",
        "print(d[t])       \n",
        "print(d[(1, 2)])"
      ],
      "execution_count": 0,
      "outputs": [
        {
          "output_type": "stream",
          "text": [
            "<class 'tuple'>\n",
            "5\n",
            "1\n"
          ],
          "name": "stdout"
        }
      ]
    },
    {
      "cell_type": "markdown",
      "metadata": {
        "id": "ScsmgsofPp_q",
        "colab_type": "text"
      },
      "source": [
        "### Functions\n",
        "Les fonctions Python sont définies à l'aide du mot clé def. Par exemple:"
      ]
    },
    {
      "cell_type": "code",
      "metadata": {
        "id": "iyFCLVZlPTOc",
        "colab_type": "code",
        "outputId": "5ecdf4bc-a1c9-4781-d0f7-61febbc002ac",
        "colab": {
          "base_uri": "https://localhost:8080/",
          "height": 69
        }
      },
      "source": [
        "def sign(x):\n",
        "    if x > 0:\n",
        "        return 'positive'\n",
        "    elif x < 0:\n",
        "        return 'negative'\n",
        "    else:\n",
        "        return 'zero'\n",
        "\n",
        "for x in [-1, 0, 1]:\n",
        "    print(sign(x))"
      ],
      "execution_count": 0,
      "outputs": [
        {
          "output_type": "stream",
          "text": [
            "negative\n",
            "zero\n",
            "positive\n"
          ],
          "name": "stdout"
        }
      ]
    },
    {
      "cell_type": "markdown",
      "metadata": {
        "id": "r51P1orFP8u7",
        "colab_type": "text"
      },
      "source": [
        "Nous allons souvent définir des fonctions pour prendre des arguments optionnels en  mots clés, comme ceci:"
      ]
    },
    {
      "cell_type": "code",
      "metadata": {
        "id": "dPnkbfLYPlS9",
        "colab_type": "code",
        "outputId": "3fb43988-cefe-4335-8d63-ff151375a350",
        "colab": {
          "base_uri": "https://localhost:8080/",
          "height": 52
        }
      },
      "source": [
        "def hello(name, loud=False):\n",
        "    if loud:\n",
        "        print('HELLO, %s' % name.upper())  # Majuscule si loud est vrai\n",
        "    else:\n",
        "        print('Hello, %s!' % name)\n",
        "\n",
        "hello('Bob')\n",
        "hello('Fred', loud=True)"
      ],
      "execution_count": 0,
      "outputs": [
        {
          "output_type": "stream",
          "text": [
            "Hello, Bob!\n",
            "HELLO, FRED\n"
          ],
          "name": "stdout"
        }
      ]
    },
    {
      "cell_type": "markdown",
      "metadata": {
        "id": "jM69clcMQXVh",
        "colab_type": "text"
      },
      "source": [
        "### Classes\n",
        "La syntaxe permettant de définir des classes en Python est simple:"
      ]
    },
    {
      "cell_type": "code",
      "metadata": {
        "id": "EpQmQ-0YQJd2",
        "colab_type": "code",
        "outputId": "6bef1eb9-34ba-4a00-86ed-51433148895e",
        "colab": {
          "base_uri": "https://localhost:8080/",
          "height": 52
        }
      },
      "source": [
        "class Greeter:\n",
        "\n",
        "    # Constructeur\n",
        "    def __init__(self, name):\n",
        "        self.name = name  # Crée une variable instance\n",
        "\n",
        "    # Méthethode d'instance\n",
        "    def greet(self, loud=False):\n",
        "        if loud:\n",
        "            print('HELLO, %s!' % self.name.upper())\n",
        "        else:\n",
        "            print('Hello, %s' % self.name)\n",
        "\n",
        "g = Greeter('Fred')  # Construitune instance de la classe Greeter\n",
        "g.greet()            # Appelle la méthode d'instance; \"Hello, Fred\"\n",
        "g.greet(loud=True)   # Appelle la méthode d'instance avec un paramètre; prints \"HELLO, FRED!\""
      ],
      "execution_count": 0,
      "outputs": [
        {
          "output_type": "stream",
          "text": [
            "Hello, Fred\n",
            "HELLO, FRED!\n"
          ],
          "name": "stdout"
        }
      ]
    },
    {
      "cell_type": "markdown",
      "metadata": {
        "id": "v_x976ZnSqOZ",
        "colab_type": "text"
      },
      "source": [
        "#Numpy"
      ]
    },
    {
      "cell_type": "markdown",
      "metadata": {
        "id": "a-5oW-wyTLqs",
        "colab_type": "text"
      },
      "source": [
        "Numpy est la bibliothèque de base du calcul scientifique en Python (voir la documentation complète disponible en ligne). Il fournit un objet tableau multidimensionnel hautes performances et des outils pour utiliser ces tableaux. Si vous connaissez déjà MATLAB, vous trouverez peut-être ce tutoriel utile pour commencer à utiliser Numpy."
      ]
    },
    {
      "cell_type": "markdown",
      "metadata": {
        "id": "RjrI7lExTnYZ",
        "colab_type": "text"
      },
      "source": [
        "Pour utiliser Numpy, nous devons d’abord importer le paquet numpy:"
      ]
    },
    {
      "cell_type": "code",
      "metadata": {
        "id": "1rHom-SnToGc",
        "colab_type": "code",
        "colab": {}
      },
      "source": [
        "import numpy as np"
      ],
      "execution_count": 0,
      "outputs": []
    },
    {
      "cell_type": "markdown",
      "metadata": {
        "id": "oRfcg7rxT_rK",
        "colab_type": "text"
      },
      "source": [
        "###Tableaux"
      ]
    },
    {
      "cell_type": "markdown",
      "metadata": {
        "id": "mZLag5NkUNna",
        "colab_type": "text"
      },
      "source": [
        "Un tableau numpy est une grille de valeurs, toutes du même type, indexées par un tuple d'entiers non négatifs. Le nombre de dimensions est le rang du tableau. la forme d'un tableau est un tuple d'entiers donnant la taille du tableau le long de chaque dimension."
      ]
    },
    {
      "cell_type": "markdown",
      "metadata": {
        "id": "mALi80PVUXjk",
        "colab_type": "text"
      },
      "source": [
        "We can initialize numpy arrays from nested Python lists, and access elements using square brackets:"
      ]
    },
    {
      "cell_type": "code",
      "metadata": {
        "id": "0La8AeCJUYZn",
        "colab_type": "code",
        "outputId": "6b24e957-b593-459f-def0-a73c07e8d559",
        "colab": {
          "base_uri": "https://localhost:8080/",
          "height": 51
        }
      },
      "source": [
        "a = np.array([1, 2, 3])  # Créer un tableau de rang 1\n",
        "print(type(a), a.shape, a[0], a[1], a[2])\n",
        "a[0] = 5                 # Changer un élément du tableau\n",
        "print(a)   "
      ],
      "execution_count": 0,
      "outputs": [
        {
          "output_type": "stream",
          "text": [
            "<class 'numpy.ndarray'> (3,) 1 2 3\n",
            "[5 2 3]\n"
          ],
          "name": "stdout"
        }
      ]
    },
    {
      "cell_type": "code",
      "metadata": {
        "id": "r-bBrP53Ubc_",
        "colab_type": "code",
        "outputId": "946f32f9-13b8-4c33-a96c-02e75720862f",
        "colab": {
          "base_uri": "https://localhost:8080/",
          "height": 51
        }
      },
      "source": [
        "b = np.array([[1,2,3],[4,5,6]])   # Créer un tableau de rang 2\n",
        "print (b)"
      ],
      "execution_count": 0,
      "outputs": [
        {
          "output_type": "stream",
          "text": [
            "[[1 2 3]\n",
            " [4 5 6]]\n"
          ],
          "name": "stdout"
        }
      ]
    },
    {
      "cell_type": "code",
      "metadata": {
        "id": "CNkgUX_CU7FC",
        "colab_type": "code",
        "outputId": "75fdcda2-32de-44e0-ef94-f7bee9ba9881",
        "colab": {
          "base_uri": "https://localhost:8080/",
          "height": 51
        }
      },
      "source": [
        "print (b.shape)                \n",
        "print (b[0, 0], b[0, 1], b[1, 0])"
      ],
      "execution_count": 0,
      "outputs": [
        {
          "output_type": "stream",
          "text": [
            "(2, 3)\n",
            "1 2 4\n"
          ],
          "name": "stdout"
        }
      ]
    },
    {
      "cell_type": "markdown",
      "metadata": {
        "id": "s-FyjjauVJj1",
        "colab_type": "text"
      },
      "source": [
        "Numpy fournit également de nombreuses fonctions pour créer des tableaux:"
      ]
    },
    {
      "cell_type": "code",
      "metadata": {
        "id": "3n32MVEvVMQt",
        "colab_type": "code",
        "outputId": "7213cced-7b6d-44c7-a8eb-163c97cda01e",
        "colab": {
          "base_uri": "https://localhost:8080/",
          "height": 51
        }
      },
      "source": [
        "a = np.zeros((2,2))  # Créer un tableau de tous les zéros\n",
        "print (a)"
      ],
      "execution_count": 0,
      "outputs": [
        {
          "output_type": "stream",
          "text": [
            "[[0. 0.]\n",
            " [0. 0.]]\n"
          ],
          "name": "stdout"
        }
      ]
    },
    {
      "cell_type": "code",
      "metadata": {
        "id": "-4nfMbsnVQdD",
        "colab_type": "code",
        "outputId": "167fe4a8-485e-43b8-9cc3-48a0b5017158",
        "colab": {
          "base_uri": "https://localhost:8080/",
          "height": 34
        }
      },
      "source": [
        "b = np.ones((1,2))   # Créer un tableau de tous ceux\n",
        "print (b)"
      ],
      "execution_count": 0,
      "outputs": [
        {
          "output_type": "stream",
          "text": [
            "[[1. 1.]]\n"
          ],
          "name": "stdout"
        }
      ]
    },
    {
      "cell_type": "code",
      "metadata": {
        "id": "0zx3h9D8VUX1",
        "colab_type": "code",
        "outputId": "42c1fb5d-fc96-405a-8ebd-7810f1282b7c",
        "colab": {
          "base_uri": "https://localhost:8080/",
          "height": 51
        }
      },
      "source": [
        "c = np.full((2,2), 7) # Créer un tableau constant\n",
        "print (c) "
      ],
      "execution_count": 0,
      "outputs": [
        {
          "output_type": "stream",
          "text": [
            "[[7 7]\n",
            " [7 7]]\n"
          ],
          "name": "stdout"
        }
      ]
    },
    {
      "cell_type": "code",
      "metadata": {
        "id": "bnNZQzhKVYgU",
        "colab_type": "code",
        "outputId": "1b19a60f-a277-4685-94b1-ea3315bf184e",
        "colab": {
          "base_uri": "https://localhost:8080/",
          "height": 51
        }
      },
      "source": [
        "d = np.eye(2)        # Créer une matrice d'identité 2x2\n",
        "print (d)"
      ],
      "execution_count": 0,
      "outputs": [
        {
          "output_type": "stream",
          "text": [
            "[[1. 0.]\n",
            " [0. 1.]]\n"
          ],
          "name": "stdout"
        }
      ]
    },
    {
      "cell_type": "code",
      "metadata": {
        "id": "9eIiHci7VcNd",
        "colab_type": "code",
        "outputId": "c99bfccd-8e98-483c-a41e-93e1624e043d",
        "colab": {
          "base_uri": "https://localhost:8080/",
          "height": 51
        }
      },
      "source": [
        "e = np.random.random((2,2)) # Créer un tableau rempli de valeurs aléatoires\n",
        "print (e)"
      ],
      "execution_count": 0,
      "outputs": [
        {
          "output_type": "stream",
          "text": [
            "[[0.12817984 0.18750088]\n",
            " [0.05895338 0.78324432]]\n"
          ],
          "name": "stdout"
        }
      ]
    },
    {
      "cell_type": "markdown",
      "metadata": {
        "id": "bVKpZsHsVukR",
        "colab_type": "text"
      },
      "source": [
        "### Indexation des tableaux"
      ]
    },
    {
      "cell_type": "markdown",
      "metadata": {
        "id": "DPVXyGh8V6NP",
        "colab_type": "text"
      },
      "source": [
        "Numpy propose plusieurs méthodes pour indexer dans des tableaux."
      ]
    },
    {
      "cell_type": "markdown",
      "metadata": {
        "id": "MV9t07laWKV0",
        "colab_type": "text"
      },
      "source": [
        "Tranchage: similaires aux listes Python, les tableaux numpy peuvent être tranchés. Comme les tableaux peuvent être multidimensionnels, vous devez spécifier une tranche pour chaque dimension du tableau:"
      ]
    },
    {
      "cell_type": "code",
      "metadata": {
        "id": "c6joj4cdWLGt",
        "colab_type": "code",
        "outputId": "78531a1b-e3ab-4617-a1c2-c5bfbc2811d8",
        "colab": {
          "base_uri": "https://localhost:8080/",
          "height": 51
        }
      },
      "source": [
        "import numpy as np\n",
        "\n",
        "# Créer le tableau de rang 2 suivant avec une forme (3, 4)\n",
        "# [[ 1  2  3  4]\n",
        "#  [ 5  6  7  8]\n",
        "#  [ 9 10 11 12]]\n",
        "a = np.array([[1,2,3,4], [5,6,7,8], [9,10,11,12]])\n",
        "\n",
        "# Utilisez le découpage pour extraire le sous-réseau constitué des 2 premières lignes.\n",
        "# et colonnes 1 et 2; b est le tableau de forme suivant (2, 2):\n",
        "# [[2 3]\n",
        "#  [6 7]]\n",
        "b = a[:2, 1:3]\n",
        "print (b)"
      ],
      "execution_count": 0,
      "outputs": [
        {
          "output_type": "stream",
          "text": [
            "[[2 3]\n",
            " [6 7]]\n"
          ],
          "name": "stdout"
        }
      ]
    },
    {
      "cell_type": "markdown",
      "metadata": {
        "id": "KMNNdt1VWavL",
        "colab_type": "text"
      },
      "source": [
        "Une tranche d'un tableau est une vue dans les mêmes données, sa modification modifiera donc le tableau d'origine."
      ]
    },
    {
      "cell_type": "code",
      "metadata": {
        "id": "7HTDS5VPWbjv",
        "colab_type": "code",
        "outputId": "aaa3f15b-ef5b-4b81-c986-db507c4e98f6",
        "colab": {
          "base_uri": "https://localhost:8080/",
          "height": 51
        }
      },
      "source": [
        "print (a[0, 1])  \n",
        "b[0, 0] = 77    # b [0, 0] est la même donnée qu'un [0, 1]\n",
        "print (a[0, 1])"
      ],
      "execution_count": 0,
      "outputs": [
        {
          "output_type": "stream",
          "text": [
            "2\n",
            "77\n"
          ],
          "name": "stdout"
        }
      ]
    },
    {
      "cell_type": "markdown",
      "metadata": {
        "id": "PoNHPlluWsHL",
        "colab_type": "text"
      },
      "source": [
        "Vous pouvez également combiner l'indexation d'entiers avec l'indexation de tranches. Cependant, cela produira un tableau de rang inférieur à celui d'origine. Notez que ceci est assez différent de la façon dont MATLAB gère le découpage en matrice:"
      ]
    },
    {
      "cell_type": "code",
      "metadata": {
        "id": "3zmMu-HjWtUA",
        "colab_type": "code",
        "outputId": "d657e128-e699-48e1-f551-2e2c80bf9553",
        "colab": {
          "base_uri": "https://localhost:8080/",
          "height": 68
        }
      },
      "source": [
        "# Créer le tableau de rang 2 suivant avec une forme (3, 4)\n",
        "a = np.array([[1,2,3,4], [5,6,7,8], [9,10,11,12]])\n",
        "print (a)"
      ],
      "execution_count": 0,
      "outputs": [
        {
          "output_type": "stream",
          "text": [
            "[[ 1  2  3  4]\n",
            " [ 5  6  7  8]\n",
            " [ 9 10 11 12]]\n"
          ],
          "name": "stdout"
        }
      ]
    },
    {
      "cell_type": "markdown",
      "metadata": {
        "id": "jbckd5ezW1kN",
        "colab_type": "text"
      },
      "source": [
        "Two ways of accessing the data in the middle row of the array. Mixing integer indexing with slices yields an array of lower rank, while using only slices yields an array of the same rank as the original array:"
      ]
    },
    {
      "cell_type": "code",
      "metadata": {
        "id": "wNJqE3pZW2aY",
        "colab_type": "code",
        "outputId": "f8452d2b-4852-4c77-d341-cf319f802596",
        "colab": {
          "base_uri": "https://localhost:8080/",
          "height": 68
        }
      },
      "source": [
        "row_r1 = a[1, :]    # Rang 1 vue de la deuxième rangée de a  \n",
        "row_r2 = a[1:2, :]  # Rang 2 vue de la deuxième rangée de a\n",
        "row_r3 = a[[1], :]  # Rang 3 vue de la deuxième rangée de a\n",
        "print (row_r1, row_r1.shape) \n",
        "print (row_r2, row_r2.shape)\n",
        "print (row_r3, row_r3.shape)"
      ],
      "execution_count": 0,
      "outputs": [
        {
          "output_type": "stream",
          "text": [
            "[5 6 7 8] (4,)\n",
            "[[5 6 7 8]] (1, 4)\n",
            "[[5 6 7 8]] (1, 4)\n"
          ],
          "name": "stdout"
        }
      ]
    },
    {
      "cell_type": "code",
      "metadata": {
        "id": "XxC_8Q3gW50g",
        "colab_type": "code",
        "outputId": "d13a390e-5f43-476b-975e-5560ac4eff5e",
        "colab": {
          "base_uri": "https://localhost:8080/",
          "height": 85
        }
      },
      "source": [
        "# Nous pouvons faire la même distinction en accédant aux colonnes d'un tableau:\n",
        "col_r1 = a[:, 1]\n",
        "col_r2 = a[:, 1:2]\n",
        "print (col_r1, col_r1.shape)\n",
        "print\n",
        "print (col_r2, col_r2.shape)"
      ],
      "execution_count": 0,
      "outputs": [
        {
          "output_type": "stream",
          "text": [
            "[ 2  6 10] (3,)\n",
            "[[ 2]\n",
            " [ 6]\n",
            " [10]] (3, 1)\n"
          ],
          "name": "stdout"
        }
      ]
    },
    {
      "cell_type": "markdown",
      "metadata": {
        "id": "1jURnEyqXOiv",
        "colab_type": "text"
      },
      "source": [
        "Indexation de tableaux entiers: lorsque vous indexez dans des tableaux numpy à l'aide de la découpe, la vue de tableau résultante sera toujours un sous-tableau du tableau d'origine. En revanche, l'indexation de tableaux de nombres entiers vous permet de construire des tableaux arbitraires en utilisant les données d'un autre tableau. Voici un exemple:"
      ]
    },
    {
      "cell_type": "code",
      "metadata": {
        "id": "_C86qCiOXPiQ",
        "colab_type": "code",
        "outputId": "3acf1fd5-e45f-4c02-9a1d-267b2cc7203d",
        "colab": {
          "base_uri": "https://localhost:8080/",
          "height": 51
        }
      },
      "source": [
        "a = np.array([[1,2], [3, 4], [5, 6]])\n",
        "\n",
        "# Un exemple d'indexation de tableau entier.\n",
        "# Le tableau retourné aura la forme (3,) et \n",
        "print (a[[0, 1, 2], [0, 1, 0]])\n",
        "\n",
        "# L'exemple ci-dessus d'indexation de tableau de nombres entiers est équivalent à ceci:\n",
        "print (np.array([a[0, 0], a[1, 1], a[2, 0]]))"
      ],
      "execution_count": 0,
      "outputs": [
        {
          "output_type": "stream",
          "text": [
            "[1 4 5]\n",
            "[1 4 5]\n"
          ],
          "name": "stdout"
        }
      ]
    },
    {
      "cell_type": "code",
      "metadata": {
        "id": "Kf4CJaqKXvS9",
        "colab_type": "code",
        "outputId": "c272a56b-b453-43c0-f046-d1efe8cacc66",
        "colab": {
          "base_uri": "https://localhost:8080/",
          "height": 51
        }
      },
      "source": [
        "# Lorsque vous utilisez l'indexation de tableaux entiers, vous pouvez réutiliser le même\n",
        "# élément du tableau source:\n",
        "print (a[[0, 0], [1, 1]])\n",
        "\n",
        "# Équivalent à l'exemple précédent d'indexation de tableau de nombres entiers\n",
        "print (np.array([a[0, 1], a[0, 1]]))"
      ],
      "execution_count": 0,
      "outputs": [
        {
          "output_type": "stream",
          "text": [
            "[2 2]\n",
            "[2 2]\n"
          ],
          "name": "stdout"
        }
      ]
    },
    {
      "cell_type": "markdown",
      "metadata": {
        "id": "YTFxSx8HX6WP",
        "colab_type": "text"
      },
      "source": [
        "One useful trick with integer array indexing is selecting or mutating one element from each row of a matrix:"
      ]
    },
    {
      "cell_type": "code",
      "metadata": {
        "id": "e6_d7fUmX66U",
        "colab_type": "code",
        "outputId": "cc8a0549-f3bf-4fd4-b397-d3fbd5793fc3",
        "colab": {
          "base_uri": "https://localhost:8080/",
          "height": 85
        }
      },
      "source": [
        "# Créer un nouveau tableau à partir duquel nous allons sélectionner des éléments\n",
        "a = np.array([[1,2,3], [4,5,6], [7,8,9], [10, 11, 12]])\n",
        "print (a)"
      ],
      "execution_count": 0,
      "outputs": [
        {
          "output_type": "stream",
          "text": [
            "[[ 1  2  3]\n",
            " [ 4  5  6]\n",
            " [ 7  8  9]\n",
            " [10 11 12]]\n"
          ],
          "name": "stdout"
        }
      ]
    },
    {
      "cell_type": "code",
      "metadata": {
        "id": "6QJi_ox9X-ct",
        "colab_type": "code",
        "outputId": "e46a5231-2f90-4d30-9b9c-7dbebc00f69e",
        "colab": {
          "base_uri": "https://localhost:8080/",
          "height": 34
        }
      },
      "source": [
        "# Créer un tableau d'indices\n",
        "b = np.array([0, 2, 0, 1])\n",
        "\n",
        "# Sélectionnez un élément de chaque ligne de a en utilisant les indices de b\n",
        "print (a[np.arange(4), b])  # Prints \"[ 1  6  7 11]\""
      ],
      "execution_count": 0,
      "outputs": [
        {
          "output_type": "stream",
          "text": [
            "[ 1  6  7 11]\n"
          ],
          "name": "stdout"
        }
      ]
    },
    {
      "cell_type": "code",
      "metadata": {
        "id": "E3r_sh3_YDic",
        "colab_type": "code",
        "outputId": "48509335-7faf-4c3b-8a63-8e36dba7156a",
        "colab": {
          "base_uri": "https://localhost:8080/",
          "height": 85
        }
      },
      "source": [
        "# Mutez un élément de chaque ligne de a en utilisant les indices de b\n",
        "a[np.arange(4), b] += 10\n",
        "print (a)"
      ],
      "execution_count": 0,
      "outputs": [
        {
          "output_type": "stream",
          "text": [
            "[[11  2  3]\n",
            " [ 4  5 16]\n",
            " [17  8  9]\n",
            " [10 21 12]]\n"
          ],
          "name": "stdout"
        }
      ]
    },
    {
      "cell_type": "markdown",
      "metadata": {
        "id": "yBp5jjCrYTk3",
        "colab_type": "text"
      },
      "source": [
        "Indexation de tableau booléen: L'indexation de tableau booléen vous permet de sélectionner des éléments arbitraires d'un tableau. Ce type d'indexation est fréquemment utilisé pour sélectionner les éléments d'un tableau qui remplissent certaines conditions. Voici un exemple:"
      ]
    },
    {
      "cell_type": "code",
      "metadata": {
        "id": "NqYsRGZBYUGe",
        "colab_type": "code",
        "outputId": "eea0c9b7-b36c-4d07-c03a-97ce4537c36c",
        "colab": {
          "base_uri": "https://localhost:8080/",
          "height": 68
        }
      },
      "source": [
        "import numpy as np\n",
        "\n",
        "a = np.array([[1,2], [3, 4], [5, 6]])\n",
        "\n",
        "bool_idx = (a > 2)  # Trouvez les éléments de a qui sont plus grands que 2;\n",
        "                    # cela retourne un tableau numpy de booléens de même\n",
        "                    # forme comme un, où chaque emplacement de bool_idx dit\n",
        "                    # si cet élément de a est> 2.\n",
        "print (bool_idx)"
      ],
      "execution_count": 0,
      "outputs": [
        {
          "output_type": "stream",
          "text": [
            "[[False False]\n",
            " [ True  True]\n",
            " [ True  True]]\n"
          ],
          "name": "stdout"
        }
      ]
    },
    {
      "cell_type": "code",
      "metadata": {
        "id": "qgEO9nhPYe8F",
        "colab_type": "code",
        "outputId": "b9238d45-8a6d-472d-c0b0-b68152bdf0fe",
        "colab": {
          "base_uri": "https://localhost:8080/",
          "height": 51
        }
      },
      "source": [
        "# Nous utilisons l'indexation de tableau booléen pour construire un tableau de rang 1\n",
        "# constitué des éléments d'un correspondant aux valeurs vraies\n",
        "# de bool_idx\n",
        "print (a[bool_idx])\n",
        "\n",
        "# Nous pouvons faire tout ce qui précède dans une seule déclaration concise:\n",
        "print (a[a > 2])"
      ],
      "execution_count": 0,
      "outputs": [
        {
          "output_type": "stream",
          "text": [
            "[3 4 5 6]\n",
            "[3 4 5 6]\n"
          ],
          "name": "stdout"
        }
      ]
    },
    {
      "cell_type": "markdown",
      "metadata": {
        "id": "EanPsfY0YqB4",
        "colab_type": "text"
      },
      "source": [
        "Par souci de brièveté, nous avons laissé de nombreux détails sur l'indexation de tableaux numpy; Si vous voulez en savoir plus, vous devriez lire la documentation."
      ]
    },
    {
      "cell_type": "markdown",
      "metadata": {
        "id": "ieTazCN5YyZa",
        "colab_type": "text"
      },
      "source": [
        "###Types de données"
      ]
    },
    {
      "cell_type": "markdown",
      "metadata": {
        "id": "zZiyVwzUZAz4",
        "colab_type": "text"
      },
      "source": [
        "Chaque tableau numpy est une grille d'éléments du même type. Numpy fournit un grand ensemble de types de données numériques que vous pouvez utiliser pour construire des tableaux. Numpy essaie de deviner un type de données lorsque vous créez un tableau, mais les fonctions qui construisent des tableaux incluent également un argument facultatif pour spécifier explicitement le type de données. Voici un exemple:"
      ]
    },
    {
      "cell_type": "code",
      "metadata": {
        "id": "rNy9dJClZBgC",
        "colab_type": "code",
        "outputId": "3a766198-4a08-4db7-dcd2-39264037bd78",
        "colab": {
          "base_uri": "https://localhost:8080/",
          "height": 34
        }
      },
      "source": [
        "x = np.array([1, 2])  # Laisser numpy choisir le type de données\n",
        "y = np.array([1.0, 2.0])  # Laisser numpy choisir le type de données\n",
        "z = np.array([1, 2], dtype=np.int64)  # Forcer un type de données particulier\n",
        "\n",
        "print (x.dtype, y.dtype, z.dtype)"
      ],
      "execution_count": 0,
      "outputs": [
        {
          "output_type": "stream",
          "text": [
            "int64 float64 int64\n"
          ],
          "name": "stdout"
        }
      ]
    },
    {
      "cell_type": "markdown",
      "metadata": {
        "id": "7YABD9PHZZ14",
        "colab_type": "text"
      },
      "source": [
        "Vous pouvez lire tout sur les types de données numpy dans la documentation."
      ]
    },
    {
      "cell_type": "markdown",
      "metadata": {
        "id": "zFq465EAZ-9y",
        "colab_type": "text"
      },
      "source": [
        "### Mathématiques du tableau"
      ]
    },
    {
      "cell_type": "markdown",
      "metadata": {
        "id": "7-0U-ZlGaKwf",
        "colab_type": "text"
      },
      "source": [
        "Basic mathematical functions operate elementwise on arrays, and are available both as operator overloads and as functions in the numpy module:"
      ]
    },
    {
      "cell_type": "code",
      "metadata": {
        "id": "FZZq3udjaLUI",
        "colab_type": "code",
        "outputId": "17bf6478-31f6-4e13-d7b9-2f984249e033",
        "colab": {
          "base_uri": "https://localhost:8080/",
          "height": 85
        }
      },
      "source": [
        "x = np.array([[1,2],[3,4]], dtype=np.float64)\n",
        "y = np.array([[5,6],[7,8]], dtype=np.float64)\n",
        "\n",
        "# Somme élémentaire; les deux produisent le tableau\n",
        "print (x + y)\n",
        "print (np.add(x, y))"
      ],
      "execution_count": 0,
      "outputs": [
        {
          "output_type": "stream",
          "text": [
            "[[ 6.  8.]\n",
            " [10. 12.]]\n",
            "[[ 6.  8.]\n",
            " [10. 12.]]\n"
          ],
          "name": "stdout"
        }
      ]
    },
    {
      "cell_type": "code",
      "metadata": {
        "id": "YD_BoTBNaRMK",
        "colab_type": "code",
        "outputId": "983c4c2b-1ee6-40ce-8baa-ebff82c68b5d",
        "colab": {
          "base_uri": "https://localhost:8080/",
          "height": 85
        }
      },
      "source": [
        "# Différence par élément; les deux produisent le tableau\n",
        "print (x - y)\n",
        "print (np.subtract(x, y))"
      ],
      "execution_count": 0,
      "outputs": [
        {
          "output_type": "stream",
          "text": [
            "[[-4. -4.]\n",
            " [-4. -4.]]\n",
            "[[-4. -4.]\n",
            " [-4. -4.]]\n"
          ],
          "name": "stdout"
        }
      ]
    },
    {
      "cell_type": "code",
      "metadata": {
        "id": "BC9adMwQaYhK",
        "colab_type": "code",
        "outputId": "51dbb2e7-b195-4fc0-e73e-ad464f7e7a47",
        "colab": {
          "base_uri": "https://localhost:8080/",
          "height": 85
        }
      },
      "source": [
        "# Produit par élément; les deux produisent le tableau\n",
        "print (x * y)\n",
        "print (np.multiply(x, y))"
      ],
      "execution_count": 0,
      "outputs": [
        {
          "output_type": "stream",
          "text": [
            "[[ 5. 12.]\n",
            " [21. 32.]]\n",
            "[[ 5. 12.]\n",
            " [21. 32.]]\n"
          ],
          "name": "stdout"
        }
      ]
    },
    {
      "cell_type": "code",
      "metadata": {
        "id": "3F96Ht13adya",
        "colab_type": "code",
        "outputId": "074ec61b-df83-41fc-a6e6-73e08022467c",
        "colab": {
          "base_uri": "https://localhost:8080/",
          "height": 85
        }
      },
      "source": [
        "# Division élémentaire; les deux produisent le tableau\n",
        "# [[ 0.2         0.33333333]\n",
        "#  [ 0.42857143  0.5       ]]\n",
        "print (x / y)\n",
        "print (np.divide(x, y))"
      ],
      "execution_count": 0,
      "outputs": [
        {
          "output_type": "stream",
          "text": [
            "[[0.2        0.33333333]\n",
            " [0.42857143 0.5       ]]\n",
            "[[0.2        0.33333333]\n",
            " [0.42857143 0.5       ]]\n"
          ],
          "name": "stdout"
        }
      ]
    },
    {
      "cell_type": "code",
      "metadata": {
        "id": "23WoxPzYalcT",
        "colab_type": "code",
        "outputId": "bc0e5492-2261-4a7f-961d-daeb7ff71d71",
        "colab": {
          "base_uri": "https://localhost:8080/",
          "height": 51
        }
      },
      "source": [
        "# Racine carrée par élément; produit le tableau\n",
        "# [[ 1.          1.41421356]\n",
        "#  [ 1.73205081  2.        ]]\n",
        "print (np.sqrt(x))"
      ],
      "execution_count": 0,
      "outputs": [
        {
          "output_type": "stream",
          "text": [
            "[[1.         1.41421356]\n",
            " [1.73205081 2.        ]]\n"
          ],
          "name": "stdout"
        }
      ]
    },
    {
      "cell_type": "markdown",
      "metadata": {
        "id": "AUH6pCLYayxc",
        "colab_type": "text"
      },
      "source": [
        "Notez que contrairement à MATLAB, * est une multiplication élément par élément, pas une multiplication matricielle. Nous utilisons plutôt la fonction point pour calculer les produits internes des vecteurs, pour multiplier un vecteur par une matrice et pour multiplier des matrices. dot est disponible à la fois en tant que fonction dans le module numpy et en tant que méthode d'instance d'objets tableau:"
      ]
    },
    {
      "cell_type": "code",
      "metadata": {
        "id": "W4ccjwAVazyU",
        "colab_type": "code",
        "outputId": "e6929147-eb58-4fea-98b0-3c3ccf70b215",
        "colab": {
          "base_uri": "https://localhost:8080/",
          "height": 51
        }
      },
      "source": [
        "x = np.array([[1,2],[3,4]])\n",
        "y = np.array([[5,6],[7,8]])\n",
        "\n",
        "v = np.array([9,10])\n",
        "w = np.array([11, 12])\n",
        "\n",
        "# Produit intérieur des vecteurs; les deux produisent 219\n",
        "print (v.dot(w))\n",
        "print (np.dot(v, w))"
      ],
      "execution_count": 0,
      "outputs": [
        {
          "output_type": "stream",
          "text": [
            "219\n",
            "219\n"
          ],
          "name": "stdout"
        }
      ]
    },
    {
      "cell_type": "code",
      "metadata": {
        "id": "BnEQmSAHa5lF",
        "colab_type": "code",
        "outputId": "337a6479-0f17-4d06-9bde-212d90b8f307",
        "colab": {
          "base_uri": "https://localhost:8080/",
          "height": 51
        }
      },
      "source": [
        "# Produit matriciel / vectoriel; les deux produisent le tableau de rang 1 [29 67]\n",
        "print (x.dot(v))\n",
        "print (np.dot(x, v))"
      ],
      "execution_count": 0,
      "outputs": [
        {
          "output_type": "stream",
          "text": [
            "[29 67]\n",
            "[29 67]\n"
          ],
          "name": "stdout"
        }
      ]
    },
    {
      "cell_type": "code",
      "metadata": {
        "id": "CDfZfA8-a--U",
        "colab_type": "code",
        "outputId": "9f9eb9bd-b315-4091-8254-7b46f1a9525a",
        "colab": {
          "base_uri": "https://localhost:8080/",
          "height": 85
        }
      },
      "source": [
        "# Matrice / produit matriciel; les deux produisent le tableau de rang 2\n",
        "# [[19 22]\n",
        "#  [43 50]]\n",
        "print (x.dot(y))\n",
        "print (np.dot(x, y))"
      ],
      "execution_count": 0,
      "outputs": [
        {
          "output_type": "stream",
          "text": [
            "[[19 22]\n",
            " [43 50]]\n",
            "[[19 22]\n",
            " [43 50]]\n"
          ],
          "name": "stdout"
        }
      ]
    },
    {
      "cell_type": "markdown",
      "metadata": {
        "id": "MA7O-dMTbLmc",
        "colab_type": "text"
      },
      "source": [
        "Numpy fournit de nombreuses fonctions utiles pour effectuer des calculs sur des tableaux; l'un des plus utiles est la somme:"
      ]
    },
    {
      "cell_type": "code",
      "metadata": {
        "id": "P0RXNaz7bMo8",
        "colab_type": "code",
        "outputId": "2d32313f-c721-47f2-d2e2-8123579e5ea8",
        "colab": {
          "base_uri": "https://localhost:8080/",
          "height": 68
        }
      },
      "source": [
        "x = np.array([[1,2],[3,4]])\n",
        "\n",
        "print (np.sum(x))  # Calculer la somme de tous les éléments; estampes \"10\"\n",
        "print (np.sum(x, axis=0))  # Calculer la somme de chaque colonne; estampes \"[4 6]\"\n",
        "print (np.sum(x, axis=1))  # Calculer la somme de chaque ligne; estampes \"[3 7]\""
      ],
      "execution_count": 0,
      "outputs": [
        {
          "output_type": "stream",
          "text": [
            "10\n",
            "[4 6]\n",
            "[3 7]\n"
          ],
          "name": "stdout"
        }
      ]
    },
    {
      "cell_type": "markdown",
      "metadata": {
        "id": "7JHXNT1-bwS8",
        "colab_type": "text"
      },
      "source": [
        "Vous trouverez la liste complète des fonctions mathématiques fournies par numpy dans la documentation.\n",
        "Outre le calcul de fonctions mathématiques à l'aide de tableaux, nous avons souvent besoin de remodeler ou de manipuler des données dans des tableaux. L’exemple le plus simple de ce type d’opération est la transposition d’une matrice; pour transposer une matrice, utilisez simplement l'attribut T d'un objet tableau:"
      ]
    },
    {
      "cell_type": "code",
      "metadata": {
        "id": "W4_7_4pwbxnM",
        "colab_type": "code",
        "outputId": "92f21e07-d30a-47c8-aead-644f53f2e243",
        "colab": {
          "base_uri": "https://localhost:8080/",
          "height": 85
        }
      },
      "source": [
        "print (x)\n",
        "print (x.T)"
      ],
      "execution_count": 0,
      "outputs": [
        {
          "output_type": "stream",
          "text": [
            "[[1 2]\n",
            " [3 4]]\n",
            "[[1 3]\n",
            " [2 4]]\n"
          ],
          "name": "stdout"
        }
      ]
    },
    {
      "cell_type": "code",
      "metadata": {
        "id": "-OliNARYb4eB",
        "colab_type": "code",
        "outputId": "cdaf0755-6be0-49fe-9c5d-a62c6799e38a",
        "colab": {
          "base_uri": "https://localhost:8080/",
          "height": 85
        }
      },
      "source": [
        "v = np.array([[1,2,3]])\n",
        "print (v) \n",
        "print (v.T)"
      ],
      "execution_count": 0,
      "outputs": [
        {
          "output_type": "stream",
          "text": [
            "[[1 2 3]]\n",
            "[[1]\n",
            " [2]\n",
            " [3]]\n"
          ],
          "name": "stdout"
        }
      ]
    },
    {
      "cell_type": "markdown",
      "metadata": {
        "id": "QWjRatTjcHvl",
        "colab_type": "text"
      },
      "source": [
        "### Broadcasting"
      ]
    },
    {
      "cell_type": "markdown",
      "metadata": {
        "id": "dSOUzskncQCn",
        "colab_type": "text"
      },
      "source": [
        "La diffusion est un mécanisme puissant qui permet à numpy de travailler avec des tableaux de formes différentes lorsqu’il effectue des opérations arithmétiques. Nous avons souvent un tableau plus petit et un tableau plus grand, et nous souhaitons utiliser le tableau plus petit plusieurs fois pour effectuer certaines opérations sur le tableau le plus grand.\n",
        "Par exemple, supposons que nous voulions ajouter un vecteur constant à chaque ligne d'une matrice. Nous pourrions le faire comme ceci:"
      ]
    },
    {
      "cell_type": "code",
      "metadata": {
        "id": "bcxQt-RxcQ8S",
        "colab_type": "code",
        "outputId": "5a4d2acf-bc46-477d-93f8-472a2267458c",
        "colab": {
          "base_uri": "https://localhost:8080/",
          "height": 85
        }
      },
      "source": [
        "# Nous allons ajouter le vecteur v à chaque ligne de la matrice x,\n",
        "# stocker le résultat dans la matrice y\n",
        "x = np.array([[1,2,3], [4,5,6], [7,8,9], [10, 11, 12]])\n",
        "v = np.array([1, 0, 1])\n",
        "y = np.empty_like(x)   # Crée une matrice vide avec la même forme que x\n",
        "\n",
        "# Ajouter le vecteur v à chaque ligne de la matrice x avec une boucle explicite\n",
        "for i in range(4):\n",
        "    y[i, :] = x[i, :] + v\n",
        "\n",
        "print (y)"
      ],
      "execution_count": 0,
      "outputs": [
        {
          "output_type": "stream",
          "text": [
            "[[ 2  2  4]\n",
            " [ 5  5  7]\n",
            " [ 8  8 10]\n",
            " [11 11 13]]\n"
          ],
          "name": "stdout"
        }
      ]
    },
    {
      "cell_type": "markdown",
      "metadata": {
        "id": "VnTpgJWGcdNu",
        "colab_type": "text"
      },
      "source": [
        "Cela marche; Toutefois, lorsque la matrice x est très grande, le calcul d’une boucle explicite en Python peut être lent. Notez que l'ajout du vecteur v à chaque ligne de la matrice x revient à former une matrice vv en empilant plusieurs copies de v verticalement, puis en effectuant la somme élémentaire de x et vv. Nous pourrions implémenter cette approche comme ceci:"
      ]
    },
    {
      "cell_type": "code",
      "metadata": {
        "id": "EE-7_O4QcfgM",
        "colab_type": "code",
        "outputId": "c244e457-cbff-480b-d5bb-45341de94869",
        "colab": {
          "base_uri": "https://localhost:8080/",
          "height": 85
        }
      },
      "source": [
        "vv = np.tile(v, (4, 1))  # Empiler 4 copies de v les unes sur les autres\n",
        "print (vv)                 # Prints \"[[1 0 1]\n",
        "                         #          [1 0 1]\n",
        "                         #          [1 0 1]\n",
        "                         #          [1 0 1]]\""
      ],
      "execution_count": 0,
      "outputs": [
        {
          "output_type": "stream",
          "text": [
            "[[1 0 1]\n",
            " [1 0 1]\n",
            " [1 0 1]\n",
            " [1 0 1]]\n"
          ],
          "name": "stdout"
        }
      ]
    },
    {
      "cell_type": "code",
      "metadata": {
        "id": "YZb0Lco3clKz",
        "colab_type": "code",
        "outputId": "1ef70686-fb2d-4abd-fc85-5519c3be8b2c",
        "colab": {
          "base_uri": "https://localhost:8080/",
          "height": 85
        }
      },
      "source": [
        "y = x + vv  # Ajouter x et vv par élément\n",
        "print (y)"
      ],
      "execution_count": 0,
      "outputs": [
        {
          "output_type": "stream",
          "text": [
            "[[ 2  2  4]\n",
            " [ 5  5  7]\n",
            " [ 8  8 10]\n",
            " [11 11 13]]\n"
          ],
          "name": "stdout"
        }
      ]
    },
    {
      "cell_type": "markdown",
      "metadata": {
        "id": "eRVFyvodc1ld",
        "colab_type": "text"
      },
      "source": [
        "La diffusion Numpy nous permet d'effectuer ce calcul sans créer réellement plusieurs copies de v. Considérez cette version, en utilisant la diffusion:"
      ]
    },
    {
      "cell_type": "code",
      "metadata": {
        "id": "AmKWPZHLc8Y7",
        "colab_type": "code",
        "outputId": "fd54f8ba-08c3-4c86-b7bb-ffcf7875afe4",
        "colab": {
          "base_uri": "https://localhost:8080/",
          "height": 85
        }
      },
      "source": [
        "import numpy as np\n",
        "\n",
        "# Nous allons ajouter le vecteur v à chaque ligne de la matrice x,\n",
        "# stocker le résultat dans la matrice y\n",
        "x = np.array([[1,2,3], [4,5,6], [7,8,9], [10, 11, 12]])\n",
        "v = np.array([1, 0, 1])\n",
        "y = x + v  # Ajouter v à chaque ligne de x en utilisant la diffusion\n",
        "print (y)"
      ],
      "execution_count": 0,
      "outputs": [
        {
          "output_type": "stream",
          "text": [
            "[[ 2  2  4]\n",
            " [ 5  5  7]\n",
            " [ 8  8 10]\n",
            " [11 11 13]]\n"
          ],
          "name": "stdout"
        }
      ]
    },
    {
      "cell_type": "markdown",
      "metadata": {
        "id": "bnpT1xdAdD4U",
        "colab_type": "text"
      },
      "source": [
        "La ligne y = x + v fonctionne même si x a une forme (4, 3) et v a une forme (3,) en raison de la diffusion; cette ligne fonctionne comme si v avait réellement une forme (4, 3), où chaque ligne était une copie de v, et la somme était effectuée élément par élément.\n",
        "\n",
        "La diffusion simultanée de deux tableaux suit ces règles:\n",
        "\n",
        "\n",
        "\n",
        "1.   Si les tableaux n'ont pas le même rang, préfixez la forme du tableau du rang inférieur avec des 1 jusqu'à ce que les deux formes aient la même longueur.\n",
        "2.   Les deux tableaux sont dits compatibles dans une dimension s'ils ont la même taille ou si l'un des tableaux a la taille 1 dans cette dimension.\n",
        "3.   Les tableaux peuvent être diffusés ensemble s'ils sont compatibles dans toutes les dimensions.\n",
        "4.   Après la diffusion, chaque matrice se comporte comme si sa forme était égale au maximum, élément par élément, des formes des deux matrices en entrée.\n",
        "5. Dans toute dimension où un tableau avait une taille de 1 et l'autre tableau avait une taille supérieure à 1, le premier tableau se comporte comme s'il avait été copié le long de cette dimension.\n",
        "\n",
        "Si cette explication n’a pas de sens, essayez de la lire à partir de la documentation ou de cette explication.\n",
        "\n",
        "Les fonctions qui prennent en charge la diffusion sont appelées fonctions universelles. Vous pouvez trouver la liste de toutes les fonctions universelles dans la documentation.\n",
        "\n",
        "Voici quelques applications de la radiodiffusion:\n",
        "\n",
        "\n",
        "\n"
      ]
    },
    {
      "cell_type": "code",
      "metadata": {
        "id": "rJfQNPL4dL6B",
        "colab_type": "code",
        "outputId": "fc44b1ca-10b7-4fea-ff04-4528b93cd8b7",
        "colab": {
          "base_uri": "https://localhost:8080/",
          "height": 68
        }
      },
      "source": [
        "# Calculer le produit extérieur des vecteurs\n",
        "v = np.array([1,2,3])  # v a la forme (3,)\n",
        "w = np.array([4,5])    # w a la forme (2,)\n",
        "# Pour calculer un produit externe, nous transformons d'abord v en colonne\n",
        "# vecteur de forme (3, 1); on peut alors le diffuser contre w pour céder\n",
        "# une sortie de forme (3, 2), qui est le produit extérieur de v et w:\n",
        "\n",
        "print (np.reshape(v, (3, 1)) * w)"
      ],
      "execution_count": 0,
      "outputs": [
        {
          "output_type": "stream",
          "text": [
            "[[ 4  5]\n",
            " [ 8 10]\n",
            " [12 15]]\n"
          ],
          "name": "stdout"
        }
      ]
    },
    {
      "cell_type": "code",
      "metadata": {
        "id": "rgRHDtT3e-9J",
        "colab_type": "code",
        "outputId": "d31d6da5-b3f6-408a-ed03-d9d098338e0b",
        "colab": {
          "base_uri": "https://localhost:8080/",
          "height": 51
        }
      },
      "source": [
        "# Ajouter un vecteur à chaque ligne d'une matrice\n",
        "x = np.array([[1,2,3], [4,5,6]])\n",
        "# x a la forme (2, 3) et v a la forme (3,) donc ils diffusent à (2, 3),\n",
        "# donnant la matrice suivante:\n",
        "\n",
        "print (x + v)"
      ],
      "execution_count": 0,
      "outputs": [
        {
          "output_type": "stream",
          "text": [
            "[[2 4 6]\n",
            " [5 7 9]]\n"
          ],
          "name": "stdout"
        }
      ]
    },
    {
      "cell_type": "code",
      "metadata": {
        "id": "LF84dYYefDrw",
        "colab_type": "code",
        "outputId": "6df36906-293a-4c62-a05b-214c34a3fa29",
        "colab": {
          "base_uri": "https://localhost:8080/",
          "height": 51
        }
      },
      "source": [
        "# Ajouter un vecteur à chaque colonne d'une matrice\n",
        "# x a la forme (2, 3) et w a la forme (2,).\n",
        "# Si on transpose x alors il a la forme (3, 2) et peut être diffusé\n",
        "# contre w pour donner un résultat de forme (3, 2); transposer ce résultat\n",
        "# donne le résultat final de la forme (2, 3) qui est la matrice x avec\n",
        "# le vecteur w ajouté à chaque colonne. Donne la matrice suivante:\n",
        "\n",
        "print ((x.T + w).T)"
      ],
      "execution_count": 0,
      "outputs": [
        {
          "output_type": "stream",
          "text": [
            "[[ 5  6  7]\n",
            " [ 9 10 11]]\n"
          ],
          "name": "stdout"
        }
      ]
    },
    {
      "cell_type": "code",
      "metadata": {
        "id": "JerLTdm7fHzQ",
        "colab_type": "code",
        "outputId": "1d9bf3bf-542c-4dc8-b7b7-537b866bab9f",
        "colab": {
          "base_uri": "https://localhost:8080/",
          "height": 51
        }
      },
      "source": [
        "# Une autre solution consiste à transformer w en un vecteur ligne de forme (2, 1);\n",
        "# on peut alors le diffuser directement contre x pour produire le même\n",
        "# Sortiet.\n",
        "print (x + np.reshape(w, (2, 1)))"
      ],
      "execution_count": 0,
      "outputs": [
        {
          "output_type": "stream",
          "text": [
            "[[ 5  6  7]\n",
            " [ 9 10 11]]\n"
          ],
          "name": "stdout"
        }
      ]
    },
    {
      "cell_type": "code",
      "metadata": {
        "id": "PpoYK2PSfLFD",
        "colab_type": "code",
        "outputId": "be5ff33d-4f3e-48d0-b3ee-b3db4509975d",
        "colab": {
          "base_uri": "https://localhost:8080/",
          "height": 51
        }
      },
      "source": [
        "# Multipliez une matrice par une constante:\n",
        "# x a la forme (2, 3). Numpy traite les scalaires comme des tableaux de formes ();\n",
        "# ceux-ci peuvent être diffusés ensemble pour former (2, 3), produisant le\n",
        "# tableau suivant:\n",
        "print (x * 2)"
      ],
      "execution_count": 0,
      "outputs": [
        {
          "output_type": "stream",
          "text": [
            "[[ 2  4  6]\n",
            " [ 8 10 12]]\n"
          ],
          "name": "stdout"
        }
      ]
    },
    {
      "cell_type": "markdown",
      "metadata": {
        "id": "R8f_8JCAfUl6",
        "colab_type": "text"
      },
      "source": [
        "La diffusion rend généralement votre code plus concis et plus rapide. Vous devez donc vous efforcer de l'utiliser autant que possible."
      ]
    },
    {
      "cell_type": "markdown",
      "metadata": {
        "id": "ESy4qaGWfa0w",
        "colab_type": "text"
      },
      "source": [
        "Ce bref aperçu a abordé de nombreuses choses importantes que vous devez savoir sur numpy, mais est loin d’être complet. Consultez la référence numpy pour en savoir plus sur numpy."
      ]
    }
  ]
}