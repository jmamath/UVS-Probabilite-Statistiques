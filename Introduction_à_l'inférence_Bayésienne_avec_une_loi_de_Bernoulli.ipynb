{
  "nbformat": 4,
  "nbformat_minor": 0,
  "metadata": {
    "colab": {
      "name": "Introduction à l'inférence Bayésienne avec une loi de Bernoulli.ipynb",
      "provenance": [],
      "authorship_tag": "ABX9TyPGgiveCydib/Ficjbg8odk",
      "include_colab_link": true
    },
    "kernelspec": {
      "name": "python3",
      "display_name": "Python 3"
    }
  },
  "cells": [
    {
      "cell_type": "markdown",
      "metadata": {
        "id": "view-in-github",
        "colab_type": "text"
      },
      "source": [
        "<a href=\"https://colab.research.google.com/github/jmamath/UVS-Probabilite-Statistiques/blob/master/Introduction_%C3%A0_l'inf%C3%A9rence_Bay%C3%A9sienne_avec_une_loi_de_Bernoulli.ipynb\" target=\"_parent\"><img src=\"https://colab.research.google.com/assets/colab-badge.svg\" alt=\"Open In Colab\"/></a>"
      ]
    },
    {
      "cell_type": "code",
      "metadata": {
        "id": "YjiZX2mv78ju",
        "colab_type": "code",
        "colab": {}
      },
      "source": [
        "# import matplotlib\n",
        "import matplotlib.pyplot as plt\n",
        "# for displaying images\n",
        "from IPython.core.display import Image\n",
        "from IPython.core.display import HTML \n",
        "# import seaborn\n",
        "import seaborn as sns\n",
        "import numpy as np\n",
        "from scipy.stats import beta, bernoulli\n",
        "# settings for seaborn plotting style\n",
        "sns.set(color_codes=True)"
      ],
      "execution_count": 23,
      "outputs": []
    },
    {
      "cell_type": "markdown",
      "metadata": {
        "id": "jp0xAPkA9NfS",
        "colab_type": "text"
      },
      "source": [
        "On veut étudier l'inférence Bayésienne pour un phénomène aléatoire que l'on modélise avec une loi de Bernoulli. On sait que la loi de Bernoulli est conjuguée à la loi Beta. Donc pour estimer l'a posteriori, on va utiliser ces lois conjuguées. La difficulté cependant consiste à choisir un bon a priori au sein de la loi Beta.\n",
        "\n",
        "Dans la suite on présente plusieurs a priori basé sur la loi Beta représentant différente croyance a priori.\n",
        "\n",
        "On peut choisir les a priori suivants\n",
        "\n",
        "* Un a priori uniforme, on assigne $a = b = 1$. \n",
        "* L'a priori de Jeffrey, ou $a = b = \\frac{1}{2}$.\n",
        "* L'a priori de Haldane ou $a = b = 0$. \n",
        "* La moitié forte ou *Strong-Half* ou $a = b = 100$.\n",
        "\n",
        "### Question\n",
        "Essayez chaque a priori et tracer la loi correspondante. \n",
        "* Comment interprétez-vous la signification de chaque a priori ?\n",
        "\n",
        "PS: Pour des raisons numériques, concernant l'a priori de Haldane entrez des petites valeurs comme 0.0001 et 0.0001 car la simulation n'accepte pas 0."
      ]
    },
    {
      "cell_type": "code",
      "metadata": {
        "id": "BcHm9aWP8OtN",
        "colab_type": "code",
        "colab": {
          "base_uri": "https://localhost:8080/",
          "height": 302
        },
        "cellView": "form",
        "outputId": "f27159bb-cc57-416b-8493-396058e2be86"
      },
      "source": [
        "#@title Densité des a priori\n",
        "a =  1#@param {type:\"number\"}\n",
        "b =  1#@param {type:\"number\"}\n",
        "size = 10000\n",
        "beta_sample = beta.rvs(a=a, b=b, loc = 0, scale = 1, size = size)\n",
        "\n",
        "ax = sns.distplot(beta_sample,\n",
        "                  bins=100,\n",
        "                  kde=True,\n",
        "                  color='skyblue',\n",
        "                  hist_kws={\"linewidth\": 15,'alpha':1})\n",
        "ax.set(xlabel='Loi beta ', ylabel='Fréquence')"
      ],
      "execution_count": 52,
      "outputs": [
        {
          "output_type": "execute_result",
          "data": {
            "text/plain": [
              "[Text(0, 0.5, 'Fréquence'), Text(0.5, 0, 'Loi beta ')]"
            ]
          },
          "metadata": {
            "tags": []
          },
          "execution_count": 52
        },
        {
          "output_type": "display_data",
          "data": {
            "image/png": "[encoded data removed]",
            "text/plain": [
              "<Figure size 432x288 with 1 Axes>"
            ]
          },
          "metadata": {
            "tags": []
          }
        }
      ]
    },
    {
      "cell_type": "markdown",
      "metadata": {
        "id": "tWf--ZsPA1Qd",
        "colab_type": "text"
      },
      "source": [
        "Maintenant qu'on a vu quelques a priori, on va automatiquement détermnier l'a posteriori que l'on aurait en fonction d'un échantillon.\n",
        "\n",
        "## Question\n",
        "* Rappellez la fonction de calcul de l'a posteriori d'une v.a d'un modèle ayant une vraisemblance de Bernoulli.\n",
        "* Détermniez le code de la fonction `bernoulli_posterior` qui détermine les paramètres de l'a posteriori après avoir vu les données."
      ]
    },
    {
      "cell_type": "code",
      "metadata": {
        "id": "3Bk2Mf7UADBG",
        "colab_type": "code",
        "colab": {}
      },
      "source": [
        "def bernoulli_posterior(taille_echantillon, prior_a, prior_b, vrai_parametre):\n",
        "  \"\"\"\n",
        "  Cette fonction calcule l'a posteriori apres avoir observe un jeu de donnees simule suivant une loi de Bernoulli\n",
        "  de parametre vrai_parametre, et ayant un a priori modelise par une loi Beta(prior_a, prior_b)\n",
        "  Input:\n",
        "    taille_echantillon: Int. Nombre d'exemples a generer\n",
        "    prior_a, prior_b. Floats. Ce sont les parametres de la loi beta a priori\n",
        "    vrai_parametre: Float. Parametre de Bernoulli representant les donnees a generer il est compris entre 0 et 1.\n",
        "    Ce parametre est inconnue du modele, il represente le phenomene inconnu que l'on cherche a modeliser.\n",
        "  Output:\n",
        "    posterior_a, posterior_b: Floats. Les parametres de l'a posteriori.\n",
        "  \"\"\""
      ],
      "execution_count": 60,
      "outputs": []
    },
    {
      "cell_type": "code",
      "metadata": {
        "id": "kRz-oOFmFfX8",
        "colab_type": "code",
        "colab": {
          "base_uri": "https://localhost:8080/",
          "height": 301
        },
        "cellView": "form",
        "outputId": "529290e7-0e73-4c8f-add6-76e4b7a88f70"
      },
      "source": [
        "#@title Densité a posteriori\n",
        "prior_a =  1#@param {type:\"number\"}\n",
        "prior_b =  1#@param {type:\"number\"}\n",
        "taille_echantillon =  5#@param {type:\"number\"}\n",
        "vrai_parametre = 0.5 #@param {type:\"number\"}\n",
        "size = 10000\n",
        "\n",
        "posterior_a, posterior_b = bernoulli_posterior(taille_echantillon, prior_a, prior_b, vrai_parametre)\n",
        "\n",
        "beta_sample = beta.rvs(a=posterior_a, b=posterior_b, loc = 0, scale = 1, size = size)\n",
        "\n",
        "x = np.linspace(0,1, 100)\n",
        "plt.plot(beta.pdf(x, posterior_a, posterior_b))\n",
        "plt.title(\"Loi a posteriori\")\n"
      ],
      "execution_count": 58,
      "outputs": [
        {
          "output_type": "execute_result",
          "data": {
            "text/plain": [
              "Text(0.5, 1.0, 'Loi a posteriori')"
            ]
          },
          "metadata": {
            "tags": []
          },
          "execution_count": 58
        },
        {
          "output_type": "display_data",
          "data": {
            "image/png": "[encoded data removed]",
            "text/plain": [
              "<Figure size 432x288 with 1 Axes>"
            ]
          },
          "metadata": {
            "tags": []
          }
        }
      ]
    },
    {
      "cell_type": "code",
      "metadata": {
        "id": "ONMuokmAF4Co",
        "colab_type": "code",
        "colab": {}
      },
      "source": [
        ""
      ],
      "execution_count": null,
      "outputs": []
    }
  ]
}