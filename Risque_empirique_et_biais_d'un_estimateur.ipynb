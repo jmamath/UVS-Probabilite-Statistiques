{
  "nbformat": 4,
  "nbformat_minor": 0,
  "metadata": {
    "colab": {
      "name": "Risque empirique et biais d'un estimateur.ipynb",
      "provenance": [],
      "collapsed_sections": [],
      "authorship_tag": "ABX9TyOA252gJE/mqNkMBZwb+QMV",
      "include_colab_link": true
    },
    "kernelspec": {
      "name": "python3",
      "display_name": "Python 3"
    }
  },
  "cells": [
    {
      "cell_type": "markdown",
      "metadata": {
        "id": "view-in-github",
        "colab_type": "text"
      },
      "source": [
        "<a href=\"https://colab.research.google.com/github/jmamath/UVS-Probabilite-Statistiques/blob/master/Risque_empirique_et_biais_d'un_estimateur.ipynb\" target=\"_parent\"><img src=\"https://colab.research.google.com/assets/colab-badge.svg\" alt=\"Open In Colab\"/></a>"
      ]
    },
    {
      "cell_type": "markdown",
      "metadata": {
        "id": "razAgYbuBjhC",
        "colab_type": "text"
      },
      "source": [
        "## 0. Introduction\n",
        "Objectifs pédagogiques:\n",
        "1. Être capable de calculer les notions de risque quadratique d'un estimateur. \n",
        "1. Être capable de calculer le biais d'un estimateur.\n",
        "1. Renforcer la comprehénsion qu'un estimateur est une variable aléatoire.\n",
        "\n",
        "Commençons par importer quelques modules.\n"
      ]
    },
    {
      "cell_type": "code",
      "metadata": {
        "id": "W_KczvtgBgRX",
        "colab_type": "code",
        "colab": {
          "base_uri": "https://localhost:8080/",
          "height": 72
        },
        "outputId": "7751ce7f-f26b-487b-c5b2-8f1c191ac9bb"
      },
      "source": [
        "import numpy as np\n",
        "from scipy.stats import norm\n",
        "import matplotlib.pyplot as plt\n",
        "import seaborn as sns\n",
        "# settings for seaborn plotting style\n",
        "sns.set(color_codes=True)\n",
        "# settings for seaborn plot sizes\n",
        "sns.set(rc={'figure.figsize':(5,5)})"
      ],
      "execution_count": null,
      "outputs": [
        {
          "output_type": "stream",
          "text": [
            "/usr/local/lib/python3.6/dist-packages/statsmodels/tools/_testing.py:19: FutureWarning: pandas.util.testing is deprecated. Use the functions in the public API at pandas.testing instead.\n",
            "  import pandas.util.testing as tm\n"
          ],
          "name": "stderr"
        }
      ]
    },
    {
      "cell_type": "markdown",
      "metadata": {
        "id": "A4zWwqVGEGqC",
        "colab_type": "text"
      },
      "source": [
        "## 1. Risque quadratique d'un estimateur\n",
        "Le risque quadratique est l'une des mesure les plus brute de la performance d'un estimateur. Cependant il offre un premier moyen de comparer divers estimateurs.\n",
        "\n",
        "Plaçons nous dans le cas ou le jeu de données est issu d'une loi normale centrée réduite $\\mathcal{N}(0,1)$."
      ]
    },
    {
      "cell_type": "code",
      "metadata": {
        "id": "cVtMn1ayDG2O",
        "colab_type": "code",
        "colab": {
          "base_uri": "https://localhost:8080/",
          "height": 302
        },
        "outputId": "b8079341-84da-4891-c0f6-4d9de1806771"
      },
      "source": [
        "# Create a Standard Gaussian and sample from it\n",
        "num_sample = 10000\n",
        "\n",
        "\n",
        "# generate random numbers from N(0,1)\n",
        "data_normal = norm.rvs(size=num_sample,loc=0,scale=1)\n",
        "\n",
        "ax = sns.distplot(data_normal,\n",
        "                  bins=100,\n",
        "                  kde=True,\n",
        "                  color='skyblue',\n",
        "                  hist_kws={\"linewidth\": 20,'alpha':1})\n",
        "ax.set(xlabel='Loi normale', ylabel='Fréquence')\n",
        "\n",
        "# data = g.sample([num_sample]).numpy()\n"
      ],
      "execution_count": null,
      "outputs": [
        {
          "output_type": "execute_result",
          "data": {
            "text/plain": [
              "[Text(0, 0.5, 'Fréquence'), Text(0.5, 0, 'Loi normale')]"
            ]
          },
          "metadata": {
            "tags": []
          },
          "execution_count": 2
        },
        {
          "output_type": "display_data",
          "data": {
            "image/png": "[encoded data removed]",
            "text/plain": [
              "<Figure size 432x288 with 1 Axes>"
            ]
          },
          "metadata": {
            "tags": [],
            "needs_background": "light"
          }
        }
      ]
    },
    {
      "cell_type": "markdown",
      "metadata": {
        "id": "LXx2zOeAMWCj",
        "colab_type": "text"
      },
      "source": [
        "\n",
        "En connaissant uniquement la moyenne, l'estimateur de la variance issu du maxium de vraisemblance peut être utile car il incorpore la valeur de la moyenne. \n",
        "\n",
        "### Questions\n",
        "* Implémenter l'estimateur de la moyenne et de la variance que vous avez trouvé avec le maximum de vraisemblance que nous noterons $T_{n}$ et $S_{n}$\n",
        "* Implémenter un estimateur de la variance empririque $S_{n}^{2}$\n",
        "* Implémenter un estimateur de la variance empririque corrigée $\\hat S_{n}^{2}$\n",
        "\n",
        "Pour rappel en notant la loi normale $\\mathcal{N}(\\mu,\\sigma^{2})$\n",
        "\\begin{align}\n",
        "T_{n} &= \\frac{1}{n} \\sum_{i=1}^{n} x_{i} \\\\\n",
        "S_{n} &= \\frac{1}{n} \\sum_{i=1}^{n} (x_{i}-\\mu)^{2}\\\\\n",
        "S_{n}^{2} &= \\frac{1}{n} \\sum_{i=1}^{n} (x_{i}-T_{n})^{2}\\\\\n",
        "\\hat S_{n}^{2} &= \\frac{1}{n-1} \\sum_{i=1}^{n} (x_{i}-T_{n})^{2}\n",
        "\\end{align}\n",
        "\n",
        "Vous utiliserez les fonctions ci-dessous à remplir.\n",
        "\n",
        "\n",
        "\n",
        "\n"
      ]
    },
    {
      "cell_type": "code",
      "metadata": {
        "id": "jp-M2QPjDpQb",
        "colab_type": "code",
        "colab": {}
      },
      "source": [
        "def estimateur_moyenne_vraisemblance(data):\n",
        "  \"\"\"\n",
        "  Input:\n",
        "    data: Tableau de nombre: le jeu de données    \n",
        "  Output:\n",
        "    moyenne: estimation de la moyenne\n",
        "  \"\"\"\n",
        "  length = len(data)\n",
        "  moyenne = 0\n",
        "  for i in range(length):\n",
        "    moyenne = moyenne + data[i]\n",
        "  return moyenne / length\n",
        "  \n",
        "\n",
        "def estimateur_variance_vraisemblance(data, moyenne):\n",
        "  \"\"\"\n",
        "  Input:\n",
        "    data: Tableau de nombre: le jeu de données\n",
        "    moyenne: la moyenne connue\n",
        "  Output:\n",
        "    var: estimation de la variance\n",
        "  \"\"\"\n",
        "  length = len(data)\n",
        "  variance = 0\n",
        "  for i in range(length):\n",
        "    variance = variance + (data[i]-moyenne)**2\n",
        "  return variance / length\n",
        "\n",
        "\n",
        "def estimateur_variance_empirique(data):\n",
        "  \"\"\"\n",
        "  Input:\n",
        "    data: Tableau de nombre: le jeu de données\n",
        "  Output:\n",
        "    var: estimation de la variance\n",
        "  \"\"\"\n",
        "  length = len(data)\n",
        "  moyenne = estimateur_moyenne_vraisemblance(data)\n",
        "  variance = 0\n",
        "  for i in range(length):\n",
        "    variance = variance + (data[i]-moyenne)**2\n",
        "  return variance / length\n",
        "\n",
        "def estimateur_variance_empirique_corrigee(data):\n",
        "  \"\"\"\n",
        "  Input:\n",
        "    data: Tableau de nombre: le jeu de données\n",
        "  Output:\n",
        "    var: estimation de la variance\n",
        "  \"\"\"  \n",
        "  length = len(data)\n",
        "  moyenne = estimateur_moyenne_vraisemblance(data)\n",
        "  variance = 0\n",
        "  for i in range(length):\n",
        "    variance = variance + (data[i]-moyenne)**2\n",
        "  return variance / (length-1)"
      ],
      "execution_count": null,
      "outputs": []
    },
    {
      "cell_type": "code",
      "metadata": {
        "id": "ORiTQkkJOHfs",
        "colab_type": "code",
        "colab": {
          "base_uri": "https://localhost:8080/",
          "height": 69
        },
        "outputId": "10a70d0b-1ea5-4d2b-c479-12472fcd9fbf"
      },
      "source": [
        "# generate random numbers from N(0,1)\n",
        "num_sample = 5\n",
        "data_normal = norm.rvs(size=num_sample, loc=0, scale=1)\n",
        "\n",
        "# Estimations\n",
        "moyenne = estimateur_moyenne_vraisemblance(data_normal)\n",
        "var_vraisemblance = estimateur_variance_vraisemblance(data_normal, 0)\n",
        "var_empirique = estimateur_variance_empirique(data_normal)\n",
        "\n",
        "print(\"Moyenne: {}\",moyenne)\n",
        "print(\"Variance vraisemblance: \", var_vraisemblance)\n",
        "print(\"Variance empirique: \", var_empirique)"
      ],
      "execution_count": null,
      "outputs": [
        {
          "output_type": "stream",
          "text": [
            "Moyenne: {} -0.16555148152533544\n",
            "Variance vraisemblance:  0.1391702385661771\n",
            "Variance empirique:  0.11176294553094361\n"
          ],
          "name": "stdout"
        }
      ]
    },
    {
      "cell_type": "markdown",
      "metadata": {
        "id": "apJzxx9wHlCX",
        "colab_type": "text"
      },
      "source": [
        "Nous connaissons les valeurs des paramètres, nous pouvons calculer le risque quadratique de nos estimateurs:\n",
        "\n",
        "* Rappelez la formule du risque quadratique.\n",
        "* Éxécutez la cellule de code suivante pour estimer la moyenne de l'échantillon `data_normal` avec $T_{n}$ et sa variance avec respectivement $S_{n},S_{n}^{2}$ et $\\hat S_{n}^{2}$.\n",
        "* Calculez Le risque quadratique associé aux estimateurs: $T_{n}, S_{n}, S_{n}^{2}, \\hat S_{n}^{2}$ en utilisant la fonction `risque_quad` à remplir.\n",
        "* Comparez les divers estimateurs de la variance. Lequel est le plus bas ?"
      ]
    },
    {
      "cell_type": "code",
      "metadata": {
        "id": "1gea62fvZCzp",
        "colab_type": "code",
        "colab": {}
      },
      "source": [
        ""
      ],
      "execution_count": null,
      "outputs": []
    },
    {
      "cell_type": "code",
      "metadata": {
        "id": "hOIT8YQYH_ob",
        "colab_type": "code",
        "colab": {
          "base_uri": "https://localhost:8080/",
          "height": 69
        },
        "outputId": "fe7679af-8c66-4a36-c6d4-376038db6850"
      },
      "source": [
        "# 1 Generer des donnees aleatoires suivant une loi normale from N(0,1)\n",
        "num_sample = 5\n",
        "data_normal = norm.rvs(size=num_sample, loc=0, scale=1)\n",
        "\n",
        "# 2. Obtenir une estimation de la variance avec chaque estimateur\n",
        "variance_vraisemblance = estimateur_variance_vraisemblance(data_normal, 0)\n",
        "variance_empirique = estimateur_variance_empirique(data_normal)\n",
        "variance_empirique_corrigee = estimateur_variance_empirique_corrigee(data_normal)\n",
        "\n",
        "# 3. Calculer le risque empirique pour chaque estimateur\n",
        "def risque_quad(estimation, parametre):\n",
        "  \"\"\"\n",
        "  Input:\n",
        "    estimation: Float, estimation donnee par un estimateur\n",
        "    parametre: Float, la veritable valeur du parametre\n",
        "  Return:\n",
        "    risque_quadratique: Float. Risque quadratique de l'estimateur\n",
        "  \"\"\"\n",
        "  return (estimation-parametre)**2\n",
        "\n",
        "# On connait la variance de nos donnees: 1\n",
        "risque_var_empirique = risque_quad(variance_empirique, 1)\n",
        "risque_var_vraisemblance = risque_quad(variance_vraisemblance, 1)\n",
        "risque_var_empirique_corrige = risque_quad(variance_empirique_corrigee, 1)\n",
        "\n",
        "print(\"Risque quadratique variance empirique\", risque_var_empirique)\n",
        "print(\"Risque quadratique variance vraisemblance\", risque_var_vraisemblance)\n",
        "print(\"Risque quadratique variance empirique corrige\", risque_var_empirique_corrige)"
      ],
      "execution_count": null,
      "outputs": [
        {
          "output_type": "stream",
          "text": [
            "Risque quadratique variance empirique 0.7837840635598172\n",
            "Risque quadratique variance vraisemblance 0.77402836881981\n",
            "Risque quadratique variance empirique corrige 0.7338402250781214\n"
          ],
          "name": "stdout"
        }
      ]
    },
    {
      "cell_type": "markdown",
      "metadata": {
        "id": "nlAS9NfzHEn6",
        "colab_type": "text"
      },
      "source": [
        "Dans le cas ou le jeu de données connu on peut utiliser $S_{n}$ pour estimer la variance. Dans le cas contraire, il est nécessaire d'utiliser des estimateurs se basant uniquement sur les données comme $S_{n}^{2}, \\hat S_{n}^{2}$. \n",
        "\n"
      ]
    },
    {
      "cell_type": "markdown",
      "metadata": {
        "id": "JfLyZiTHqnhL",
        "colab_type": "text"
      },
      "source": [
        "## 2. Biais et variance d'un estimateur\n",
        "\n",
        "On veut maintenant calculer le biais d'un estimateur. On va s'intéresser aux estimateurs de la variance, car nous avons vu que l'estimateur de la variance empirique était biaisé. On va illustrer ce que ça signifie.\n",
        "\n",
        "Dans la suite on continue de considérer la variable aléatoire $X \\sim \\mathcal{N}(0,1)$ \n",
        "\n",
        "### Question\n",
        "* Rapellez la définition du biais d'un estimateur\n",
        "* Remplissez le code de `esperance_estimateur` ci dessous pour calculer l'espérance d'un estimateur, vous utiliserez cette fonction pour calculer le biais.\n"
      ]
    },
    {
      "cell_type": "code",
      "metadata": {
        "id": "OGa-8k2o5UBW",
        "colab_type": "code",
        "colab": {}
      },
      "source": [
        "\n",
        "def esperance_estimateur(data, estimateur, taille_echantillon, iteration):\n",
        "  \"\"\"\n",
        "  Input:\n",
        "    data: Jeux de données complet\n",
        "    estimateur: Estimateur à évaluer\n",
        "    taille_echantillon: nombre d'éléments à tirer dans le jeu de données pour effectuer une estimation\n",
        "    iteration: Nombre d'itération pour estimer l'espérance.\n",
        "  Output:\n",
        "    biais: le biais de l'estimateur\n",
        "  \"\"\"\n",
        "  estimation = 0\n",
        "  for i in range(iteration):\n",
        "    echantillon = np.random.choice(data, taille_echantillon)    \n",
        "    estimation = estimation + estimateur(echantillon)  \n",
        "  esperance_estimateur = estimation / iteration\n",
        "  return esperance_estimateur\n",
        "\n",
        "  \n"
      ],
      "execution_count": null,
      "outputs": []
    },
    {
      "cell_type": "markdown",
      "metadata": {
        "id": "OcXDvqDZaiZE",
        "colab_type": "text"
      },
      "source": [
        "On va comparer plusieurs estimateurs de la variance, dans la suite l'indice représente le nombre d'exemples utilisé pour chaque estimation.\n",
        "* Comparez le biais de la variance empirique $S_{10}^{2}$ et de la variance empirique corrigée $\\hat S_{10}^{2}$.\n",
        "* Comparez le biais de la variance empirique $S_{100}^{2}$ et de la variance empirique corrigée $\\hat S_{100}^{2}$.\n",
        "\n",
        "Qu'observez-vous ?\n"
      ]
    },
    {
      "cell_type": "code",
      "metadata": {
        "id": "lb5fHynmhIL8",
        "colab_type": "code",
        "colab": {}
      },
      "source": [
        "# Create a Standard Gaussian and sample from it\n",
        "num_sample = 10000\n",
        "# generate random numbers from N(0,1)\n",
        "data_normal = norm.rvs(size=num_sample,loc=0,scale=1)\n"
      ],
      "execution_count": null,
      "outputs": []
    },
    {
      "cell_type": "code",
      "metadata": {
        "id": "Ui6nnrnH9G_v",
        "colab_type": "code",
        "colab": {
          "base_uri": "https://localhost:8080/",
          "height": 34
        },
        "outputId": "987f680f-12f7-40b3-9827-4bc587d19c11"
      },
      "source": [
        "\n",
        "esperance_var_emp = esperance_estimateur(data_normal, estimateur_variance_empirique, 15, 50)\n",
        "esperance_var_corr = esperance_estimateur(data_normal, estimateur_variance_empirique_corrigee, 15, 50)\n"
      ],
      "execution_count": null,
      "outputs": [
        {
          "output_type": "stream",
          "text": [
            "0.9324079338421366\n"
          ],
          "name": "stdout"
        }
      ]
    },
    {
      "cell_type": "code",
      "metadata": {
        "id": "_DP4yvxucdE8",
        "colab_type": "code",
        "colab": {
          "base_uri": "https://localhost:8080/",
          "height": 52
        },
        "outputId": "c6b7d53d-d895-47be-f0ad-d713fec8ada7"
      },
      "source": [
        "print(\"Biais estimateur variance empirique\", (1-esperance_var_emp))\n",
        "print(\"Biais estimateur variance empirique corrigee\", 1-esperance_var_corr)"
      ],
      "execution_count": null,
      "outputs": [
        {
          "output_type": "stream",
          "text": [
            "Biais estimateur variance empirique 0.0675920661578634\n",
            "Biais estimateur variance empirique corrigee -0.02453540939903709\n"
          ],
          "name": "stdout"
        }
      ]
    },
    {
      "cell_type": "markdown",
      "metadata": {
        "id": "gqe8DsX7L_lW",
        "colab_type": "text"
      },
      "source": [
        "## 3. Ouverture\n",
        "On a vu la notion de biais d'un estimateur, dans la suite, on s'intéressera aux propriétés de convergences de ces derniers. maintenant, on va illustrer la convergence d'un estimateur. On va donc voir pourquoi les big data permettent souvent d'obtenir de meilleurs estimateurs."
      ]
    },
    {
      "cell_type": "code",
      "metadata": {
        "id": "vJs_qejzTI5O",
        "colab_type": "code",
        "colab": {}
      },
      "source": [
        ""
      ],
      "execution_count": null,
      "outputs": []
    }
  ]
}