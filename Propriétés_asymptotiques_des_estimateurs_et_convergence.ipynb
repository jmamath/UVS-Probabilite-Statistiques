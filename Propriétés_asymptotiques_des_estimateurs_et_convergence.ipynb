{
  "nbformat": 4,
  "nbformat_minor": 0,
  "metadata": {
    "colab": {
      "name": "Propriétés asymptotiques des estimateurs et convergence.ipynb",
      "provenance": [],
      "collapsed_sections": [],
      "authorship_tag": "ABX9TyN73gx95q+R8ZS4Ka0RTEtj",
      "include_colab_link": true
    },
    "kernelspec": {
      "name": "python3",
      "display_name": "Python 3"
    }
  },
  "cells": [
    {
      "cell_type": "markdown",
      "metadata": {
        "id": "view-in-github",
        "colab_type": "text"
      },
      "source": [
        "<a href=\"https://colab.research.google.com/github/jmamath/UVS-Probabilite-Statistiques/blob/master/Propri%C3%A9t%C3%A9s_asymptotiques_des_estimateurs_et_convergence.ipynb\" target=\"_parent\"><img src=\"https://colab.research.google.com/assets/colab-badge.svg\" alt=\"Open In Colab\"/></a>"
      ]
    },
    {
      "cell_type": "markdown",
      "metadata": {
        "id": "qMjKxmZrucJj",
        "colab_type": "text"
      },
      "source": [
        "Objectifs pédagogiques:\n",
        "* Faire le lien entre les théorèmes aux limites et les types de convergence\n",
        "* Visiter le biais et la variance des estimateurs convergents.\n",
        "* Comprendre les propriétés asymptotiques des estimateurs et en quoi elles sont liés aux big data.\n",
        "\n",
        "Commençons par importer quelques packages."
      ]
    },
    {
      "cell_type": "code",
      "metadata": {
        "id": "gZ1JMOVX1nHa",
        "colab_type": "code",
        "colab": {}
      },
      "source": [
        "# for inline plots in jupyter\n",
        "%matplotlib inline\n",
        "# import matplotlib\n",
        "import matplotlib.pyplot as plt\n",
        "# import seaborn\n",
        "import seaborn as sns\n",
        "import numpy as np\n",
        "# settings for seaborn plotting style\n",
        "sns.set(color_codes=True)\n",
        "# settings for seaborn plot sizes\n",
        "sns.set(rc={'figure.figsize':(5,5)})"
      ],
      "execution_count": 2,
      "outputs": []
    },
    {
      "cell_type": "markdown",
      "metadata": {
        "id": "drTfMOGvz1a5",
        "colab_type": "text"
      },
      "source": [
        "## 1. Loi faible des grands nombre\n",
        "La loi faible des grands nombres garantie que l'estimateur de la moyenne empirique $T_{n}$ converge vers le vrai paramètre lorsque n tend vers l'infini. Quand n représente la quantité de données, on comprend l'importance des big data\n",
        "Plus généralement, tout estimateur convergent bénéficie des big data.\n",
        "\n",
        "On va illustrer ce principe dans cette section.\n",
        "Pour cela on va simuler le jeu d'une pièce de monnaie bien équilibrée, i.e $X_{i} \\sim \\mathcal{B}(0.5)$. Commençons par afficher la loi empirique pour 50000 lancés.\n"
      ]
    },
    {
      "cell_type": "code",
      "metadata": {
        "id": "WdNcndRZ10IK",
        "colab_type": "code",
        "colab": {
          "base_uri": "https://localhost:8080/",
          "height": 356
        },
        "outputId": "54507fdf-8f5f-434d-9b0c-52d1fd75715d"
      },
      "source": [
        "from scipy.stats import bernoulli\n",
        "data_bern = bernoulli.rvs(size=50000,p=0.5)\n",
        "\n",
        "ax= sns.distplot(data_bern,\n",
        "                 kde=False,\n",
        "                 color=\"skyblue\",\n",
        "                 hist_kws={\"linewidth\": 15,'alpha':1})\n",
        "ax.set(xlabel='Loi de Bernoulli', ylabel='Fréquence')"
      ],
      "execution_count": 5,
      "outputs": [
        {
          "output_type": "execute_result",
          "data": {
            "text/plain": [
              "[Text(0, 0.5, 'Fréquence'), Text(0.5, 0, 'Loi de Bernoulli')]"
            ]
          },
          "metadata": {
            "tags": []
          },
          "execution_count": 5
        },
        {
          "output_type": "display_data",
          "data": {
            "image/png": "[encoded data removed]",
            "text/plain": [
              "<Figure size 360x360 with 1 Axes>"
            ]
          },
          "metadata": {
            "tags": []
          }
        }
      ]
    },
    {
      "cell_type": "markdown",
      "metadata": {
        "id": "2uOg5GFnh9vi",
        "colab_type": "text"
      },
      "source": [
        "### 1.1 Question\n",
        "* Récrivez l'estimateur de la moyenne empirique.\n",
        "* Remplissez la fonction ci-dessous permettant de calculer une estimation en fonction du nombre de données considéré\n",
        "* Affichez la convergence de l'estimateur $T_{n}$. \n",
        "On veut voir la valeur de $T_{10}, T_{20}, \\cdots, T_{1000}$ sur un graphe par exemple."
      ]
    },
    {
      "cell_type": "code",
      "metadata": {
        "id": "CKcYY9eauZwG",
        "colab_type": "code",
        "colab": {}
      },
      "source": [
        "def estimateur_moyenne_empirique(data):\n",
        "  \"\"\"\n",
        "  Input:\n",
        "    data: Tableau de nombre: le jeu de données    \n",
        "  Output:\n",
        "    moyenne: estimation de la moyenne\n",
        "  \"\"\"\n",
        "\n",
        "def evaluate_convergence_estimator(data, estimator, taille_echantillons):\n",
        "  \"\"\"\n",
        "  Input:\n",
        "    data: le jeu de données considéré\n",
        "    estimator: l'estimateur dont on veut étudier la convergence\n",
        "    taille_echantillons: un tableau dont chaque cellule représente une taille d'échantillon\n",
        "      qu'on utilisera pour effectuer une estimation\n",
        "  Output:\n",
        "    evaluations: un tableau représentant une estimation pour chaque échantillon considéré\n",
        "      dans taille_echantillons   \n",
        "  \"\"\"\n"
      ],
      "execution_count": 17,
      "outputs": []
    },
    {
      "cell_type": "code",
      "metadata": {
        "id": "OsJUX7LPWa79",
        "colab_type": "code",
        "colab": {}
      },
      "source": [
        "# Ce code montre la convergence de l'estimateur de la moyenne empirique\n",
        "taille_echantillons = np.arange(10,50000,10)\n",
        "evaluations = evaluate_convergence_estimator(data_bern, estimateur_moyenne_empirique, taille_echantillons)\n",
        "\n",
        "plt.plot(evaluations)\n",
        "plt.xlabel(taille_echantillons)"
      ],
      "execution_count": null,
      "outputs": []
    },
    {
      "cell_type": "markdown",
      "metadata": {
        "id": "vbz9L6eZMLiv",
        "colab_type": "text"
      },
      "source": [
        "## 2. Théorème Central Limite (TCL)\n",
        "Le TCL nous informe sur la loi que prend l'estimateur de la moyenne, et cela quelque soit la loi de la variable aléatoire estimée. Pour illustrer ce point, on va choisir deux variables aléatoires:\n",
        "* Une loi uniforme.\n",
        "* Une loi empirique, le prix des diamants.\n",
        "\n",
        "\n",
        "On va ensuite étudier la loi de l'estimateur de la moyenne empirique que l'on notera $T_{n}$ sur chacune de ces variables aléatoires."
      ]
    },
    {
      "cell_type": "markdown",
      "metadata": {
        "id": "gx3v31YS1QyD",
        "colab_type": "text"
      },
      "source": [
        "Commençons par générer une variable de loi uniforme."
      ]
    },
    {
      "cell_type": "code",
      "metadata": {
        "id": "-3_Hk9w21On8",
        "colab_type": "code",
        "colab": {
          "base_uri": "https://localhost:8080/",
          "height": 356
        },
        "outputId": "867c5c67-520d-405b-9547-96a6c6f30304"
      },
      "source": [
        "# import uniform distribution\n",
        "from scipy.stats import uniform\n",
        "\n",
        "# random numbers from uniform distribution\n",
        "data_uniform = uniform.rvs(size=10000, loc = 10, scale=10)\n",
        "\n",
        "ax = sns.distplot(data_uniform,\n",
        "                  bins=100,\n",
        "                  kde=True,\n",
        "                  color='skyblue',\n",
        "                  hist_kws={\"linewidth\": 15,'alpha':1})\n",
        "ax.set(xlabel='Loi uniforme ', ylabel='Fréquence')"
      ],
      "execution_count": 14,
      "outputs": [
        {
          "output_type": "execute_result",
          "data": {
            "text/plain": [
              "[Text(0, 0.5, 'Fréquence'), Text(0.5, 0, 'Loi uniforme ')]"
            ]
          },
          "metadata": {
            "tags": []
          },
          "execution_count": 14
        },
        {
          "output_type": "display_data",
          "data": {
            "image/png": "[encoded data removed]",
            "text/plain": [
              "<Figure size 360x360 with 1 Axes>"
            ]
          },
          "metadata": {
            "tags": []
          }
        }
      ]
    },
    {
      "cell_type": "markdown",
      "metadata": {
        "id": "vMtAGo8xS-Hj",
        "colab_type": "text"
      },
      "source": [
        "Affichons maintenant la loi empirique du prix des diamants."
      ]
    },
    {
      "cell_type": "code",
      "metadata": {
        "id": "CTPnUSlaS65s",
        "colab_type": "code",
        "colab": {
          "base_uri": "https://localhost:8080/",
          "height": 372
        },
        "outputId": "cfc336b7-e32f-4f8d-c563-e13ac0436fc3"
      },
      "source": [
        "diamond = sns.load_dataset(\"diamonds\")\n",
        "diamond.keys()\n",
        "diamond_price = diamond['price']\n",
        "plt.hist(diamond_price, bins=50)\n",
        "plt.xlabel(\"Prix ($)\")\n",
        "plt.ylabel(\"Nombre\")\n",
        "plt.title(\"Loi empirique du prix des diamants\")"
      ],
      "execution_count": 10,
      "outputs": [
        {
          "output_type": "execute_result",
          "data": {
            "text/plain": [
              "Text(0.5, 1.0, 'Loi empirique du prix des diamants')"
            ]
          },
          "metadata": {
            "tags": []
          },
          "execution_count": 10
        },
        {
          "output_type": "display_data",
          "data": {
            "image/png": "[encoded data removed]",
            "text/plain": [
              "<Figure size 360x360 with 1 Axes>"
            ]
          },
          "metadata": {
            "tags": []
          }
        }
      ]
    },
    {
      "cell_type": "markdown",
      "metadata": {
        "id": "fZ7uueqO2YnJ",
        "colab_type": "text"
      },
      "source": [
        "Dans la suite on notera $X \\sim \\mathcal{U}(10,20)$, $Y$ la variable aléatoire représentant le prix des diamants.\n",
        "\n",
        "### 2.2 Questions\n",
        "Dans cette première partie, on cherchera à estimer la loi de l'estimateur $T_{10}$, ou $T_{10}$ requiert 10 tirages pour calculer une estimation. Dans la suite répondez aux questions suivante pour variable aléatoire $X, Y$. Vous pouvez utilisez les estimateurs de numpy.\n",
        "1. Obtenez 1000 estimations de $T_{10}$.\n",
        "1. Estimez $\\mathbb{E}[T_{10}]$.\n",
        "1. Estimez $Var(T_{10})$.\n",
        "1. Tracez un histogramme des estimations de $T_{10}$ pour chaque variable aléatoire. Est-ce que cela ressemble à une loi connue ?\n",
        "\n",
        "Note, pour tracer un histogramme utilisez `plt.hist(data)` utilisez l'argument `bins` pour affiner votre histogramme. Exemple `plt.hist(data, bins=50)`.\n"
      ]
    },
    {
      "cell_type": "code",
      "metadata": {
        "id": "TJNz_UyF2f1p",
        "colab_type": "code",
        "colab": {}
      },
      "source": [
        "def evaluate_estimator(data, estimator, taille_echantillon, nb_estimation):\n",
        "  \"\"\"\n",
        "  Input:\n",
        "    data: (numpy array) le jeu de données considéré\n",
        "    estimator: (fonction) l'estimateur dont on veut étudier la convergence\n",
        "    taille_echantillon: (Int) de l'échantillon pour calculer une estimation \n",
        "      par exemple il s'agit de n pour Tn.   \n",
        "    nb_estimation: (Int): Il s'agit du nombre d'estimation dont on a besoin pour évaluer la loi\n",
        "      de l'estimateur    \n",
        "  Output:\n",
        "    evaluations: un tableau composé des différentes estimations\n",
        "  \"\"\"\n"
      ],
      "execution_count": null,
      "outputs": []
    },
    {
      "cell_type": "markdown",
      "metadata": {
        "id": "u0BojUc4PZFw",
        "colab_type": "text"
      },
      "source": [
        "Maintenant, répondez aux mêmes questions avec $T_{100}$. Le but de cet exercice est d'illustrer la convergence de l'estimateur $T_{n}$ vers une loi normale, c'est le théorème central limite: \n",
        "$$\n",
        "\\sqrt{n}({T}_{n}-\\mathbb{E}(X)) \\xrightarrow{\\mathcal{L}} \\mathcal{N}(0,Var(X))\n",
        "$$"
      ]
    },
    {
      "cell_type": "code",
      "metadata": {
        "id": "shCCSWUuQRG8",
        "colab_type": "code",
        "colab": {}
      },
      "source": [
        "uniform_estimation = evaluate_estimator(data_uniform, estimateur_moyenne_vraisemblance, 10, 1000)\n",
        "diamond_price_estimation = evaluate_estimator(diamond_price, estimateur_moyenne_vraisemblance, 10, 1000)"
      ],
      "execution_count": null,
      "outputs": []
    },
    {
      "cell_type": "markdown",
      "metadata": {
        "id": "G2X-adnOVrCq",
        "colab_type": "text"
      },
      "source": [
        "## 3. Observer la convergence en loi\n",
        "Nous savons que lorsque n est suffisamment grand (en pratique > 30) alors $T_{n}$ suit une loi normale. Essayez d'afficher la  loi de l'estimateur $T_{n}$ entouré de sa variance pour les v.a X et Y. Complétez la fonction `evaluate_loi_estimator`.\n",
        "Cette fonction va simuler plusieurs tirages d'un estimateur donné $T_{n}$ de sorte que pour chaque valeur de $n$, nous puissions calculer $\\mathbb{E}[T_{n}]$ et $Var[T_{n}]$.\n",
        "Cela permettra ensuite de tracer la convergence de la loi de $T_{n}$. "
      ]
    },
    {
      "cell_type": "code",
      "metadata": {
        "id": "0GxLWM7-QvhU",
        "colab_type": "code",
        "colab": {}
      },
      "source": [
        "def evaluate_loi_estimator(data, estimator, taille_echantillons, nb_estimation):\n",
        "  \"\"\"\n",
        "  Ce code genere nb_estimation d'un estimator Tn pour des tailles_echantillons n croissantes\n",
        "  Cela permet par la suite d'observer la convergence de la loi de Tn.\n",
        "  Input:\n",
        "    data: (numpy array) le jeu de données considéré\n",
        "    estimator: (fonction) l'estimateur dont on veut étudier la convergence\n",
        "    taille_echantillons: un tableau dont chaque cellule représente une taille d'échantillon\n",
        "      qu'on utilisera pour effectuer une estimation.  \n",
        "    nb_estimation: (Int): Il s'agit du nombre d'estimation dont on a besoin pour évaluer la loi\n",
        "      de l'estimateur.    \n",
        "  Output:\n",
        "    evaluations: un tableau composé des différentes estimations\n",
        "  \"\"\"\n"
      ],
      "execution_count": 12,
      "outputs": []
    },
    {
      "cell_type": "code",
      "metadata": {
        "id": "2eHiMYy2Wng6",
        "colab_type": "code",
        "colab": {}
      },
      "source": [
        "# Ce code genere un echantillon de l'estimateur\n",
        "taille_echantillons = np.arange(50,2500,10)\n",
        "total_estimations = np.array(evaluate_loi_estimator(data_uniform, np.mean, taille_echantillons, 100))"
      ],
      "execution_count": 16,
      "outputs": []
    },
    {
      "cell_type": "code",
      "metadata": {
        "id": "jgtGZqOSXITv",
        "colab_type": "code",
        "colab": {}
      },
      "source": [
        "# Calcul de la moyenne et de la variance pour chaque valeur de n\n",
        "total_estimations_mean = total_estimations.mean(axis=1)\n",
        "total_estimations_std = total_estimations.std(axis=1)"
      ],
      "execution_count": null,
      "outputs": []
    },
    {
      "cell_type": "code",
      "metadata": {
        "id": "Euw0xetzXJKf",
        "colab_type": "code",
        "colab": {
          "base_uri": "https://localhost:8080/",
          "height": 301
        },
        "outputId": "2dcd888a-dd8c-48a2-915c-22e43c49aeae"
      },
      "source": [
        "# On trace la loi de Tn pour chaque valeur de n.\n",
        "x_axis = np.arange(total_estimations_mean.shape[0])\n",
        "plt.plot(total_estimations_mean)\n",
        "plt.fill_between(x_axis, (total_estimations_mean-total_estimations_std), (total_estimations_mean+total_estimations_std), color='b', alpha=.1)\n",
        "plt.title(\"Convergence en loi de l'estimateur\")"
      ],
      "execution_count": null,
      "outputs": [
        {
          "output_type": "execute_result",
          "data": {
            "text/plain": [
              "Text(0.5, 1.0, \"Convergence en loi de l'estimateur\")"
            ]
          },
          "metadata": {
            "tags": []
          },
          "execution_count": 75
        },
        {
          "output_type": "display_data",
          "data": {
            "image/png": "[encoded data removed]",
            "text/plain": [
              "<Figure size 432x288 with 1 Axes>"
            ]
          },
          "metadata": {
            "tags": [],
            "needs_background": "light"
          }
        }
      ]
    },
    {
      "cell_type": "code",
      "metadata": {
        "id": "TViK2jWCX3BH",
        "colab_type": "code",
        "colab": {}
      },
      "source": [
        ""
      ],
      "execution_count": null,
      "outputs": []
    }
  ]
}